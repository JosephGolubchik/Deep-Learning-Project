{
 "cells": [
  {
   "cell_type": "code",
   "execution_count": 128,
   "metadata": {},
   "outputs": [],
   "source": [
    "import tensorflow as tf\n",
    "import librosa.display\n",
    "import matplotlib.pyplot as plt\n",
    "import numpy as np\n",
    "import os\n",
    "import random\n",
    "import timeit"
   ]
  },
  {
   "cell_type": "code",
   "execution_count": 129,
   "metadata": {},
   "outputs": [
    {
     "name": "stdout",
     "output_type": "stream",
     "text": [
      "num of files= 384 ,num of actors= 24.0\n"
     ]
    }
   ],
   "source": [
    "filenames = []\n",
    "for file in os.listdir('audio'):\n",
    "    filenames.append(file)\n",
    "# filenames[0:2]\n",
    "print(\"num of files=\",len(filenames),\",num of actors=\",len(filenames)/16)"
   ]
  },
  {
   "cell_type": "code",
   "execution_count": 130,
   "metadata": {},
   "outputs": [],
   "source": [
    "random.shuffle(filenames)"
   ]
  },
  {
   "cell_type": "code",
   "execution_count": 131,
   "metadata": {},
   "outputs": [],
   "source": [
    "# max, min = 76117, 53310\n",
    "# start, end = 21000/sampling_rate, 47424/sampling_rate\n",
    "# wave_length = end-start\n",
    "num_train = int(len(filenames)*0.7)\n",
    "num_test = len(filenames) - num_train"
   ]
  },
  {
   "cell_type": "code",
   "execution_count": 132,
   "metadata": {},
   "outputs": [
    {
     "name": "stdout",
     "output_type": "stream",
     "text": [
      "runtime:  48.07236805319144\n"
     ]
    }
   ],
   "source": [
    "data_x_train = []\n",
    "data_x_test = []\n",
    "\n",
    "start_time = timeit.default_timer()\n",
    "for filename in filenames[:num_train]:\n",
    "    data, sampling_rate = librosa.load(\"audio/\" + filename, sr=22050*2, res_type='kaiser_fast', duration=2.5, offset=0.5)\n",
    "    sampling_rate = np.array(sampling_rate)\n",
    "    mfccs = np.mean(librosa.feature.mfcc(y=data, sr=sampling_rate, n_mfcc=13), axis=0)\n",
    "    data_x_train.append(mfccs)\n",
    "    \n",
    "for filename in filenames[num_train:]:\n",
    "    data, sampling_rate = librosa.load(\"audio/\" + filename, sr=22050*2, res_type='kaiser_fast', duration=2.5, offset=0.5)\n",
    "    sampling_rate = np.array(sampling_rate)\n",
    "    mfccs = np.mean(librosa.feature.mfcc(y=data, sr=sampling_rate, n_mfcc=13), axis=0)\n",
    "    data_x_test.append(mfccs)\n",
    "    \n",
    "stop_time = timeit.default_timer()\n",
    "print('runtime: ', stop_time - start_time)  "
   ]
  },
  {
   "cell_type": "code",
   "execution_count": 133,
   "metadata": {},
   "outputs": [],
   "source": [
    "data_y_train = []\n",
    "data_y_test = []\n",
    "\n",
    "for filename in filenames[:num_train]:\n",
    "    if int(filename[19])%2 == 0:\n",
    "        data_y_train.append(1)\n",
    "    else:\n",
    "        data_y_train.append(0)\n",
    "        \n",
    "for filename in filenames[num_train:]:\n",
    "    if int(filename[19])%2 == 0:\n",
    "        data_y_test.append(1)\n",
    "    else:\n",
    "        data_y_test.append(0) "
   ]
  },
  {
   "cell_type": "code",
   "execution_count": 134,
   "metadata": {},
   "outputs": [],
   "source": [
    "# takes every value in data_y to an array\n",
    "# ex: [0, 1, 1, 1, 0] => [[0], [1], [1], [1], [0]]\n",
    "data_y_train_correct = []\n",
    "data_y_test_correct = []\n",
    "\n",
    "for val in data_y_train:\n",
    "    val_arr = []\n",
    "    val_arr.append(val)\n",
    "    data_y_train_correct.append(val_arr)\n",
    "    \n",
    "for val in data_y_test:\n",
    "    val_arr = []\n",
    "    val_arr.append(val)\n",
    "    data_y_test_correct.append(val_arr)"
   ]
  },
  {
   "cell_type": "code",
   "execution_count": 135,
   "metadata": {},
   "outputs": [
    {
     "data": {
      "text/plain": [
       "116"
      ]
     },
     "execution_count": 135,
     "metadata": {},
     "output_type": "execute_result"
    }
   ],
   "source": [
    "len(data_y_test)"
   ]
  },
  {
   "cell_type": "code",
   "execution_count": 136,
   "metadata": {},
   "outputs": [],
   "source": [
    "data_xy_train = []\n",
    "for i in range(len(data_x_train)):\n",
    "    data_xy_train.append( (data_x_train[i], data_y_train_correct[i]) )\n",
    "    \n",
    "data_xy_test = []\n",
    "for i in range(len(data_x_test)):\n",
    "    data_xy_test.append( (data_x_test[i], data_y_test_correct[i]) )"
   ]
  },
  {
   "cell_type": "code",
   "execution_count": 137,
   "metadata": {},
   "outputs": [],
   "source": [
    "def getXvalues(data_xy):\n",
    "    x_values = []\n",
    "    for data in data_xy:\n",
    "        x_values.append(data[0])\n",
    "    return x_values\n",
    "\n",
    "def getYvalues(data_xy):\n",
    "    y_values = []\n",
    "    for data in data_xy:\n",
    "        y_values.append(data[1])\n",
    "    return y_values"
   ]
  },
  {
   "cell_type": "code",
   "execution_count": 138,
   "metadata": {},
   "outputs": [],
   "source": [
    "def logistic_fun(z):\n",
    "    return 1/(1.0 + np.exp(-z))"
   ]
  },
  {
   "cell_type": "code",
   "execution_count": 139,
   "metadata": {},
   "outputs": [
    {
     "data": {
      "text/plain": [
       "216"
      ]
     },
     "execution_count": 139,
     "metadata": {},
     "output_type": "execute_result"
    }
   ],
   "source": [
    "len(data_xy_train[1][0])"
   ]
  },
  {
   "cell_type": "code",
   "execution_count": 127,
   "metadata": {},
   "outputs": [
    {
     "ename": "NameError",
     "evalue": "name 'config' is not defined",
     "output_type": "error",
     "traceback": [
      "\u001b[1;31m---------------------------------------------------------------------------\u001b[0m",
      "\u001b[1;31mNameError\u001b[0m                                 Traceback (most recent call last)",
      "\u001b[1;32m<ipython-input-127-5be6c3d77471>\u001b[0m in \u001b[0;36m<module>\u001b[1;34m\u001b[0m\n\u001b[0;32m     12\u001b[0m \u001b[0mupdate\u001b[0m \u001b[1;33m=\u001b[0m \u001b[0mtf\u001b[0m\u001b[1;33m.\u001b[0m\u001b[0mtrain\u001b[0m\u001b[1;33m.\u001b[0m\u001b[0mGradientDescentOptimizer\u001b[0m\u001b[1;33m(\u001b[0m\u001b[1;36m0.00002\u001b[0m\u001b[1;33m)\u001b[0m\u001b[1;33m.\u001b[0m\u001b[0mminimize\u001b[0m\u001b[1;33m(\u001b[0m\u001b[0mloss\u001b[0m\u001b[1;33m)\u001b[0m\u001b[1;33m\u001b[0m\u001b[0m\n\u001b[0;32m     13\u001b[0m \u001b[1;33m\u001b[0m\u001b[0m\n\u001b[1;32m---> 14\u001b[1;33m \u001b[0msess\u001b[0m \u001b[1;33m=\u001b[0m \u001b[0mtf\u001b[0m\u001b[1;33m.\u001b[0m\u001b[0mSession\u001b[0m\u001b[1;33m(\u001b[0m\u001b[0mconfig\u001b[0m\u001b[1;33m=\u001b[0m\u001b[0mconfig\u001b[0m\u001b[1;33m)\u001b[0m\u001b[1;33m\u001b[0m\u001b[0m\n\u001b[0m\u001b[0;32m     15\u001b[0m \u001b[0msess\u001b[0m\u001b[1;33m.\u001b[0m\u001b[0mrun\u001b[0m\u001b[1;33m(\u001b[0m\u001b[0mtf\u001b[0m\u001b[1;33m.\u001b[0m\u001b[0mglobal_variables_initializer\u001b[0m\u001b[1;33m(\u001b[0m\u001b[1;33m)\u001b[0m\u001b[1;33m)\u001b[0m\u001b[1;33m\u001b[0m\u001b[0m\n\u001b[0;32m     16\u001b[0m \u001b[1;33m\u001b[0m\u001b[0m\n",
      "\u001b[1;31mNameError\u001b[0m: name 'config' is not defined"
     ]
    }
   ],
   "source": [
    "features = len(data_xy_train[0][0])\n",
    "eps = 1e-12\n",
    "\n",
    "x = tf.placeholder(tf.float32, [None, features])\n",
    "y_ = tf.placeholder(tf.float32, [None, 1])\n",
    "W = tf.Variable(tf.zeros([features,1]))\n",
    "b = tf.Variable(tf.zeros([1]))\n",
    "y = tf.nn.sigmoid(tf.matmul(x,W)+b)\n",
    "\n",
    "loss1 = -(y_ * tf.log(y + eps) + (1 - y_) * tf.log(1 - y + eps))\n",
    "loss = tf.reduce_mean(loss1)\n",
    "update = tf.train.GradientDescentOptimizer(0.00002).minimize(loss)\n",
    "\n",
    "sess = tf.Session(config=config)\n",
    "sess.run(tf.global_variables_initializer())\n",
    "\n",
    "loss_history_train = []\n",
    "loss_history_test = []\n",
    "accuracy_history = []\n",
    "\n",
    "start_time = timeit.default_timer()\n",
    "\n",
    "for i in range(0,100):\n",
    "    sess.run(update, feed_dict = {x:getXvalues(data_xy_train), y_:getYvalues(data_xy_train)}) #BGD\n",
    "    loss_history_train.append(np.mean(sess.run(loss1, feed_dict = {x:getXvalues(data_xy_train), y_:getYvalues(data_xy_train)})))\n",
    "    random.shuffle(data_xy_train)\n",
    "    \n",
    "    if i%10 == 0:\n",
    "        right = 0\n",
    "        for i in range(len(data_x_test)):\n",
    "            pred = logistic_fun(np.matmul(getXvalues(data_xy_train)[i],sess.run(W)) + sess.run(b))\n",
    "            loss_history_test.append(np.mean(sess.run(loss1, feed_dict = {x:getXvalues(data_xy_test), y_:getYvalues(data_xy_test)})))\n",
    "            if data_y_test[i] == 0 and pred < 0.5:\n",
    "                right += 1\n",
    "            if data_y_test[i] == 1 and pred > 0.5:\n",
    "                right += 1\n",
    "        accuracy_history.append(right/num_test)\n",
    "\n",
    "stop_time = timeit.default_timer()\n",
    "print('runtime: ', stop_time - start_time)  "
   ]
  },
  {
   "cell_type": "code",
   "execution_count": 186,
   "metadata": {},
   "outputs": [
    {
     "name": "stdout",
     "output_type": "stream",
     "text": [
      "runtime:  8.204145701522975\n"
     ]
    }
   ],
   "source": [
    "features = len(data_xy_train[0][0])\n",
    "hidden_layer_nodes = 28\n",
    "\n",
    "x = tf.placeholder(tf.float32, [None, features])\n",
    "y_ = tf.placeholder(tf.float32, [None, 1])\n",
    "W1 = tf.Variable(tf.truncated_normal([features,hidden_layer_nodes], stddev=0.1))\n",
    "b1 = tf.Variable(tf.constant(0.1, shape=[hidden_layer_nodes]))\n",
    "z1 = tf.add(tf.matmul(x,W1),b1)\n",
    "a1 = tf.nn.relu(z1)\n",
    "W2 = tf.Variable(tf.truncated_normal([hidden_layer_nodes,1], stddev=0.1))\n",
    "b2 = tf.Variable(0.)\n",
    "z2 = tf.matmul(a1,W2) + b2\n",
    "y = 1 / (1.0 + tf.exp(-z2))\n",
    "\n",
    "loss = tf.reduce_mean(-(y_ * tf.log(y) + (1-y_) * tf.log(1-y)))\n",
    "update = tf.train.GradientDescentOptimizer(0.0001).minimize(loss)\n",
    "\n",
    "sess = tf.Session()\n",
    "sess.run(tf.global_variables_initializer())\n",
    "\n",
    "loss_history_train = []\n",
    "loss_history_test = []\n",
    "accuracy_history = []\n",
    "\n",
    "start_time = timeit.default_timer()\n",
    "\n",
    "for i in range(0,2000):\n",
    "    sess.run(update, feed_dict = {x:getXvalues(data_xy_train), y_:getYvalues(data_xy_train)})\n",
    "#     loss_history_train.append(np.mean(sess.run(loss, feed_dict = {x:getXvalues(data_xy_train), y_:getYvalues(data_xy_train)})))\n",
    "    \n",
    "    if False:\n",
    "        pred = y.eval(session=sess, feed_dict = {x:getXvalues(data_xy_test), y_:getYvalues(data_xy_test)})\n",
    "        for i in range(len(data_x_test)):\n",
    "            loss_history_test.append(np.mean(sess.run(loss, feed_dict = {x:getXvalues(data_xy_test), y_:getYvalues(data_xy_test)})))\n",
    "            if data_y_test[i] == 0 and pred[i][0] < 0.5:\n",
    "                tn += 1\n",
    "            elif data_y_test[i] == 0 and pred[i][0] > 0.5:\n",
    "                fn += 1\n",
    "            if data_y_test[i] == 1 and pred[i][0] > 0.5:\n",
    "                tp += 1\n",
    "            elif data_y_test[i] == 1 and pred[i][0] < 0.5:\n",
    "                fp += 1\n",
    "        accuracy_history.append((tp+tn)/(tp+tn+fp+fn))\n",
    "    \n",
    "stop_time = timeit.default_timer()\n",
    "print('runtime: ', stop_time - start_time)  "
   ]
  },
  {
   "cell_type": "code",
   "execution_count": 184,
   "metadata": {},
   "outputs": [
    {
     "name": "stdout",
     "output_type": "stream",
     "text": [
      "tp: 48 ,tn 51 ,fp: 9 ,fn: 8\n"
     ]
    }
   ],
   "source": [
    "# data_x_train =          [arr1, arr2, arr3]       # data_x_test = [arr4, arr5]\n",
    "# shuffle(data_x_train) = [arr2, arr3, arr1]\n",
    "# data_y_train = [0, 1, 1] # data_y_test = [0, 1]\n",
    "\n",
    "tp, tn, fp, fn = 0,0,0,0\n",
    "\n",
    "pred = y.eval(session=sess, feed_dict = {x:getXvalues(data_xy_test), y_:getYvalues(data_xy_test)})\n",
    "for i in range(len(data_x_test)):\n",
    "    if data_y_test[i] == 0 and pred[i][0] < 0.5:\n",
    "        tn += 1\n",
    "    elif data_y_test[i] == 0 and pred[i][0] > 0.5:\n",
    "        fn += 1\n",
    "    if data_y_test[i] == 1 and pred[i][0] > 0.5:\n",
    "        tp += 1\n",
    "    elif data_y_test[i] == 1 and pred[i][0] < 0.5:\n",
    "        fp += 1\n",
    "#     print(\"pred:\",pred,\"=\",np.round(pred),\"true:\",data_y_test[i])\n",
    "print(\"tp:\",tp,\",tn\",tn,\",fp:\",fp,\",fn:\",fn)"
   ]
  },
  {
   "cell_type": "code",
   "execution_count": 185,
   "metadata": {},
   "outputs": [
    {
     "name": "stdout",
     "output_type": "stream",
     "text": [
      "accuracy: 0.853448275862069\n",
      "recall: 0.8571428571428571\n",
      "precision: 0.8421052631578947\n"
     ]
    }
   ],
   "source": [
    "# learning rate = 0.0001, iter = 2000\n",
    "#10 nodes\n",
    "# accuracy: 0.8448275862068966\n",
    "# recall: 0.819672131147541\n",
    "# precision: 0.8771929824561403\n",
    "\n",
    "# 20 nodes\n",
    "# accuracy: 0.8706896551724138\n",
    "# recall: 0.8620689655172413\n",
    "# precision: 0.8771929824561403\n",
    "\n",
    "# 25 nodes\n",
    "# accuracy: 0.8879310344827587\n",
    "# recall: 0.8548387096774194\n",
    "# precision: 0.9298245614035088\n",
    "\n",
    "# 26 nodes\n",
    "# accuracy: 0.853448275862069\n",
    "# recall: 0.8571428571428571\n",
    "# precision: 0.8421052631578947\n",
    "    \n",
    "print(\"accuracy:\",(tp+tn)/(tp+tn+fp+fn))\n",
    "print(\"recall:\",(tp)/(tp+fn))\n",
    "print(\"precision:\",(tp)/(tp+fp))"
   ]
  },
  {
   "cell_type": "code",
   "execution_count": null,
   "metadata": {},
   "outputs": [],
   "source": [
    "plt.plot(loss_history_train)"
   ]
  },
  {
   "cell_type": "code",
   "execution_count": null,
   "metadata": {},
   "outputs": [],
   "source": [
    "plt.plot(loss_history_test)"
   ]
  },
  {
   "cell_type": "code",
   "execution_count": null,
   "metadata": {},
   "outputs": [],
   "source": [
    "plt.plot(accuracy_history)"
   ]
  },
  {
   "cell_type": "code",
   "execution_count": 151,
   "metadata": {},
   "outputs": [],
   "source": [
    "self_test = []\n",
    "data, sampling_rate = librosa.load(\"shlomi2.wav\", sr=22050*2, res_type='kaiser_fast', duration=2.5, offset=0.5)\n",
    "sampling_rate = np.array(sampling_rate)\n",
    "mfccs = np.mean(librosa.feature.mfcc(y=data, sr=sampling_rate, n_mfcc=13), axis=0)\n",
    "self_test.append(mfccs)"
   ]
  },
  {
   "cell_type": "code",
   "execution_count": 114,
   "metadata": {},
   "outputs": [],
   "source": [
    "self_test = []\n",
    "data, sampling_rate = librosa.load(\"tali.wav\", sr=22050*2, res_type='kaiser_fast', duration=2.5, offset=0.5)\n",
    "sampling_rate = np.array(sampling_rate)\n",
    "mfccs = np.mean(librosa.feature.mfcc(y=data, sr=sampling_rate, n_mfcc=13), axis=0)\n",
    "self_test.append(mfccs)"
   ]
  },
  {
   "cell_type": "code",
   "execution_count": 152,
   "metadata": {},
   "outputs": [
    {
     "data": {
      "text/plain": [
       "array([[0.74546957]], dtype=float32)"
      ]
     },
     "execution_count": 152,
     "metadata": {},
     "output_type": "execute_result"
    }
   ],
   "source": [
    "# pred = logistic_fun(np.matmul(self_test,sess.run(W)) + sess.run(b))\n",
    "pred = y.eval(session=sess, feed_dict = {x:self_test, y_:[[0]]})\n",
    "\n",
    "pred"
   ]
  },
  {
   "cell_type": "code",
   "execution_count": null,
   "metadata": {},
   "outputs": [],
   "source": []
  },
  {
   "cell_type": "code",
   "execution_count": null,
   "metadata": {},
   "outputs": [],
   "source": []
  },
  {
   "cell_type": "code",
   "execution_count": null,
   "metadata": {},
   "outputs": [],
   "source": []
  },
  {
   "cell_type": "code",
   "execution_count": null,
   "metadata": {},
   "outputs": [],
   "source": []
  },
  {
   "cell_type": "code",
   "execution_count": null,
   "metadata": {},
   "outputs": [],
   "source": []
  },
  {
   "cell_type": "code",
   "execution_count": null,
   "metadata": {},
   "outputs": [],
   "source": []
  }
 ],
 "metadata": {
  "kernelspec": {
   "display_name": "Python 3",
   "language": "python",
   "name": "python3"
  },
  "language_info": {
   "codemirror_mode": {
    "name": "ipython",
    "version": 3
   },
   "file_extension": ".py",
   "mimetype": "text/x-python",
   "name": "python",
   "nbconvert_exporter": "python",
   "pygments_lexer": "ipython3",
   "version": "3.6.5"
  }
 },
 "nbformat": 4,
 "nbformat_minor": 2
}
