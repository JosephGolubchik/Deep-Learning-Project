{
 "cells": [
  {
   "cell_type": "markdown",
   "metadata": {},
   "source": [
    "Deep Learning Course - Exercise 2\n",
    "This is a softmax prototype, with classes: Happy, Sad, Angry\n",
    "At first we tried using logistic regression with 2 classes: Happy, Sad\n",
    "This didn't work well enough, adn we got ~0.5 accuracy.\n",
    "We tried the same method but to predict Male or Female, and this worked much better with ~0.8 accuracy.\n",
    "Eventually we tried doing softmax with Happy, Sad, Angry, to see if the problem was a weak model for happy and sad."
   ]
  },
  {
   "cell_type": "code",
   "execution_count": null,
   "metadata": {},
   "outputs": [],
   "source": [
    "import tensorflow as tf\n",
    "import librosa.display\n",
    "import matplotlib.pyplot as plt\n",
    "import numpy as np\n",
    "import os\n",
    "import random\n",
    "import timeit\n",
    "import pandas as pd"
   ]
  },
  {
   "cell_type": "code",
   "execution_count": 60,
   "metadata": {},
   "outputs": [
    {
     "name": "stdout",
     "output_type": "stream",
     "text": [
      "num of files= 512 ,num of actors= 32.0\n"
     ]
    }
   ],
   "source": [
    "# Load the filenames from the folder containing the dataset\n",
    "filenames = []\n",
    "for file in os.listdir('audio_softmax'):\n",
    "    filenames.append(file)\n",
    "print(\"num of files=\",len(filenames),\",num of actors=\",len(filenames)/16)"
   ]
  },
  {
   "cell_type": "code",
   "execution_count": 61,
   "metadata": {},
   "outputs": [],
   "source": [
    "random.shuffle(filenames)"
   ]
  },
  {
   "cell_type": "code",
   "execution_count": 62,
   "metadata": {},
   "outputs": [],
   "source": [
    "# max, min = 76117, 53310\n",
    "# start, end = 21000/sampling_rate, 47424/sampling_rate\n",
    "# wave_length = end-start\n",
    "num_train = int(len(filenames)*0.7)\n",
    "num_test = len(filenames) - num_train"
   ]
  },
  {
   "cell_type": "code",
   "execution_count": 63,
   "metadata": {},
   "outputs": [],
   "source": [
    "# for filename in filenames[:num_train]:\n",
    "#     data, sampling_rate = librosa.load(\"audio/\" + filename, res_type='kaiser_fast', duration=end, offset=start)\n",
    "#     print(len(data))"
   ]
  },
  {
   "cell_type": "code",
   "execution_count": 64,
   "metadata": {},
   "outputs": [],
   "source": [
    "# df = pd.DataFrame(columns=['feature'])\n",
    "# for index, y in enumerate(filenames):\n",
    "#     data, sampling_rate = librosa.load(\"audio/\" + filename, res_type='kaiser_fast', duration=end, offset=start)\n",
    "#     mfccs = np.mean(librosa.feature.mfcc(y=data, n_mfcc=25,), axis=0)\n",
    "#     data_x_train.append(-(mfccs)/100)\n",
    "    \n",
    "# df"
   ]
  },
  {
   "cell_type": "code",
   "execution_count": 65,
   "metadata": {},
   "outputs": [
    {
     "name": "stdout",
     "output_type": "stream",
     "text": [
      "runtime:  60.116553735436355\n"
     ]
    }
   ],
   "source": [
    "data_x_train = []\n",
    "data_x_test = []\n",
    "\n",
    "start_time = timeit.default_timer()\n",
    "for filename in filenames[:num_train]:\n",
    "    data, sampling_rate = librosa.load(\"audio_softmax/\" + filename, sr=22050*2, res_type='kaiser_fast', duration=2.5, offset=0.5)\n",
    "    sampling_rate = np.array(sampling_rate)\n",
    "    mfccs = np.mean(librosa.feature.mfcc(y=data, sr=sampling_rate, n_mfcc=13), axis=0)\n",
    "    data_x_train.append(mfccs)\n",
    "    \n",
    "for filename in filenames[num_train:]:\n",
    "    data, sampling_rate = librosa.load(\"audio_softmax/\" + filename, sr=22050*2, res_type='kaiser_fast', duration=2.5, offset=0.5)\n",
    "    sampling_rate = np.array(sampling_rate)\n",
    "    mfccs = np.mean(librosa.feature.mfcc(y=data, sr=sampling_rate, n_mfcc=13), axis=0)\n",
    "    data_x_test.append(mfccs)\n",
    "    \n",
    "stop_time = timeit.default_timer()\n",
    "print('runtime: ', stop_time - start_time)  "
   ]
  },
  {
   "cell_type": "code",
   "execution_count": 66,
   "metadata": {},
   "outputs": [],
   "source": [
    "data_y_train = []\n",
    "data_y_test = []\n",
    "\n",
    "for filename in filenames[:num_train]:\n",
    "    if filename[7] == '3':\n",
    "        data_y_train.append([1,0,0])\n",
    "    elif filename[7] == '4':\n",
    "        data_y_train.append([0,1,0])\n",
    "    elif filename[7] == '5':\n",
    "        data_y_train.append([0,0,1])\n",
    "        \n",
    "for filename in filenames[num_train:]:\n",
    "    if filename[7] == '3':\n",
    "        data_y_test.append([1,0,0])\n",
    "    elif filename[7] == '4':\n",
    "        data_y_test.append([0,1,0])\n",
    "    elif filename[7] == '5':\n",
    "        data_y_test.append([0,0,1])   "
   ]
  },
  {
   "cell_type": "code",
   "execution_count": 67,
   "metadata": {},
   "outputs": [],
   "source": [
    "# takes every value in data_y to an array\n",
    "# ex: [0, 1, 1, 1, 0] => [[0], [1], [1], [1], [0]]\n",
    "data_y_train_correct = []\n",
    "data_y_test_correct = []\n",
    "\n",
    "for val in data_y_train:\n",
    "    val_arr = []\n",
    "    val_arr.append(val)\n",
    "    data_y_train_correct.append(val_arr)\n",
    "    \n",
    "for val in data_y_test:\n",
    "    val_arr = []\n",
    "    val_arr.append(val)\n",
    "    data_y_test_correct.append(val_arr)"
   ]
  },
  {
   "cell_type": "code",
   "execution_count": 68,
   "metadata": {},
   "outputs": [],
   "source": [
    "data_xy_train = []\n",
    "for i in range(len(data_x_train)):\n",
    "    data_xy_train.append( (data_x_train[i], data_y_train[i]) )\n",
    "    \n",
    "data_xy_test = []\n",
    "for i in range(len(data_x_test)):\n",
    "    data_xy_test.append( (data_x_test[i], data_y_test[i]) )"
   ]
  },
  {
   "cell_type": "code",
   "execution_count": 69,
   "metadata": {},
   "outputs": [],
   "source": [
    "def getXvalues(data_xy):\n",
    "    x_values = []\n",
    "    for data in data_xy:\n",
    "        x_values.append(data[0])\n",
    "    return x_values\n",
    "\n",
    "def getYvalues(data_xy):\n",
    "    y_values = []\n",
    "    for data in data_xy:\n",
    "        y_values.append(data[1])\n",
    "    return y_values"
   ]
  },
  {
   "cell_type": "code",
   "execution_count": 70,
   "metadata": {},
   "outputs": [],
   "source": [
    "def logistic_fun(z):\n",
    "    return 1/(1.0 + np.exp(-z))"
   ]
  },
  {
   "cell_type": "code",
   "execution_count": 98,
   "metadata": {},
   "outputs": [
    {
     "name": "stdout",
     "output_type": "stream",
     "text": [
      "0.5779221\n",
      "runtime:  38.02514685424558\n"
     ]
    }
   ],
   "source": [
    "# 0.5779221\n",
    "features = len(data_xy_train[0][0])\n",
    "\n",
    "x = tf.placeholder(tf.float32, [None, features])\n",
    "y_ = tf.placeholder(tf.float32, [None, 3])\n",
    "W = tf.Variable(tf.zeros([features, 3]))\n",
    "b = tf.Variable(tf.zeros([3]))\n",
    "y = tf.nn.softmax(tf.matmul(x, W) + b)\n",
    "\n",
    "cross_entropy = tf.reduce_mean(-tf.reduce_sum(y_ * tf.log(y), reduction_indices=[1]))\n",
    "train_step = tf.train.GradientDescentOptimizer(0.000009).minimize(cross_entropy)\n",
    "\n",
    "init = tf.global_variables_initializer()\n",
    "sess = tf.Session()\n",
    "sess.run(init)\n",
    "\n",
    "start_time = timeit.default_timer()\n",
    "\n",
    "for i in range(10000):\n",
    "    sess.run(train_step, feed_dict={x:getXvalues(data_xy_train), y_:getYvalues(data_xy_train)})\n",
    "    random.shuffle(data_xy_train)\n",
    "    \n",
    "stop_time = timeit.default_timer()\n",
    "correct_prediction = tf.equal(tf.argmax(y,1), tf.argmax(y_,1))\n",
    "accuracy = tf.reduce_mean(tf.cast(correct_prediction, tf.float32))\n",
    "\n",
    "print(sess.run(accuracy, feed_dict={x:getXvalues(data_xy_test), y_:getYvalues(data_xy_test)}))\n",
    "print('runtime: ', stop_time - start_time)  "
   ]
  },
  {
   "cell_type": "code",
   "execution_count": 75,
   "metadata": {},
   "outputs": [],
   "source": [
    "shlomi = []\n",
    "\n",
    "data, sampling_rate = librosa.load(\"shlomi3.wav\", sr=22050*2, res_type='kaiser_fast', duration=2.5, offset=0.5)\n",
    "sampling_rate = np.array(sampling_rate)\n",
    "mfccs = np.mean(librosa.feature.mfcc(y=data, sr=sampling_rate, n_mfcc=13), axis=0)\n",
    "shlomi.append(mfccs)"
   ]
  },
  {
   "cell_type": "code",
   "execution_count": 95,
   "metadata": {},
   "outputs": [
    {
     "data": {
      "text/plain": [
       "array([[0.3147713 , 0.15764569, 0.527583  ],\n",
       "       [0.4152123 , 0.56714356, 0.01764412],\n",
       "       [0.45700225, 0.33541164, 0.20758608],\n",
       "       [0.27379835, 0.54773325, 0.17846842],\n",
       "       [0.30680105, 0.21696903, 0.47622985],\n",
       "       [0.3207436 , 0.60655165, 0.07270476],\n",
       "       [0.4453827 , 0.47800416, 0.07661314],\n",
       "       [0.31847003, 0.3898016 , 0.29172838],\n",
       "       [0.34610218, 0.27572176, 0.3781761 ],\n",
       "       [0.2863218 , 0.13045374, 0.5832244 ],\n",
       "       [0.32375515, 0.31821406, 0.35803083],\n",
       "       [0.28218618, 0.3686446 , 0.3491692 ],\n",
       "       [0.3681503 , 0.5149641 , 0.11688554],\n",
       "       [0.31944197, 0.537428  , 0.14312994],\n",
       "       [0.27557552, 0.21177529, 0.5126492 ],\n",
       "       [0.47442755, 0.3787719 , 0.14680055],\n",
       "       [0.39243487, 0.46762434, 0.13994086],\n",
       "       [0.21975273, 0.668786  , 0.11146124],\n",
       "       [0.3433473 , 0.41411188, 0.24254085],\n",
       "       [0.22721922, 0.75307775, 0.01970299],\n",
       "       [0.3939486 , 0.5674145 , 0.03863689],\n",
       "       [0.5511571 , 0.337983  , 0.1108598 ],\n",
       "       [0.11396843, 0.8090188 , 0.07701275],\n",
       "       [0.51346165, 0.38304567, 0.10349272],\n",
       "       [0.51225317, 0.3935069 , 0.09423988],\n",
       "       [0.2743706 , 0.44038436, 0.285245  ],\n",
       "       [0.2884943 , 0.48473206, 0.22677371],\n",
       "       [0.49340945, 0.13331124, 0.37327936],\n",
       "       [0.41063678, 0.27237263, 0.31699055],\n",
       "       [0.21050394, 0.2606428 , 0.52885324],\n",
       "       [0.41231102, 0.3325866 , 0.25510237],\n",
       "       [0.38922143, 0.2754495 , 0.33532897],\n",
       "       [0.18945184, 0.76727706, 0.04327104],\n",
       "       [0.5317098 , 0.43769932, 0.03059094],\n",
       "       [0.21362245, 0.28975376, 0.49662375],\n",
       "       [0.24298269, 0.59322125, 0.16379601],\n",
       "       [0.3939395 , 0.53082675, 0.07523379],\n",
       "       [0.47469145, 0.45084506, 0.0744634 ],\n",
       "       [0.37898254, 0.58465433, 0.0363631 ],\n",
       "       [0.37610042, 0.54107255, 0.08282696],\n",
       "       [0.31013772, 0.64585406, 0.04400819],\n",
       "       [0.41479415, 0.128778  , 0.4564279 ],\n",
       "       [0.5214871 , 0.45698294, 0.02152996],\n",
       "       [0.36467108, 0.44492146, 0.19040747],\n",
       "       [0.42320585, 0.36648536, 0.21030878],\n",
       "       [0.39635238, 0.490545  , 0.11310257],\n",
       "       [0.3206155 , 0.5760034 , 0.1033811 ],\n",
       "       [0.37749243, 0.41966656, 0.20284103],\n",
       "       [0.3369038 , 0.5217771 , 0.14131913],\n",
       "       [0.47339052, 0.31074166, 0.21586786],\n",
       "       [0.5260394 , 0.44565773, 0.02830284],\n",
       "       [0.46484149, 0.512374  , 0.02278459],\n",
       "       [0.35092258, 0.4893741 , 0.15970336],\n",
       "       [0.26878256, 0.6742687 , 0.05694874],\n",
       "       [0.34334177, 0.4969636 , 0.15969464],\n",
       "       [0.22399707, 0.4298385 , 0.34616446],\n",
       "       [0.3175052 , 0.43614712, 0.24634771],\n",
       "       [0.50983286, 0.35456422, 0.13560292],\n",
       "       [0.24004836, 0.48405868, 0.27589297],\n",
       "       [0.32770565, 0.57542974, 0.09686463],\n",
       "       [0.35992095, 0.31596792, 0.32411107],\n",
       "       [0.35611385, 0.57138896, 0.0724972 ],\n",
       "       [0.41562545, 0.56698245, 0.01739207],\n",
       "       [0.2550304 , 0.67422056, 0.07074901],\n",
       "       [0.30302402, 0.43912166, 0.25785434],\n",
       "       [0.69625914, 0.24778265, 0.05595826],\n",
       "       [0.24523781, 0.23330955, 0.52145267],\n",
       "       [0.28495893, 0.70318204, 0.01185908],\n",
       "       [0.35551012, 0.59970343, 0.0447864 ],\n",
       "       [0.24208432, 0.21569405, 0.54222167],\n",
       "       [0.45892698, 0.41308644, 0.12798655],\n",
       "       [0.34051365, 0.6141456 , 0.04534083],\n",
       "       [0.6816962 , 0.18492886, 0.13337499],\n",
       "       [0.56012106, 0.29792356, 0.14195542],\n",
       "       [0.4321588 , 0.52694875, 0.04089246],\n",
       "       [0.5525497 , 0.38075873, 0.06669148],\n",
       "       [0.41815564, 0.39928433, 0.18255997],\n",
       "       [0.2640741 , 0.57610816, 0.1598177 ],\n",
       "       [0.2189684 , 0.10268194, 0.6783496 ],\n",
       "       [0.357252  , 0.63632   , 0.00642796],\n",
       "       [0.21227835, 0.20642912, 0.5812925 ],\n",
       "       [0.43736905, 0.3929411 , 0.16968982],\n",
       "       [0.21841086, 0.2370833 , 0.54450583],\n",
       "       [0.28244448, 0.34004268, 0.37751284],\n",
       "       [0.18929529, 0.61595243, 0.1947523 ],\n",
       "       [0.6840806 , 0.23747665, 0.07844272],\n",
       "       [0.3463502 , 0.595649  , 0.05800084],\n",
       "       [0.17928986, 0.804416  , 0.01629413],\n",
       "       [0.4295507 , 0.41677937, 0.15366997],\n",
       "       [0.3777221 , 0.47438297, 0.14789493],\n",
       "       [0.37391242, 0.5166131 , 0.10947447],\n",
       "       [0.604018  , 0.26256436, 0.13341764],\n",
       "       [0.5951907 , 0.1340979 , 0.27071136],\n",
       "       [0.5649729 , 0.41317463, 0.02185245],\n",
       "       [0.36163297, 0.2328836 , 0.40548342],\n",
       "       [0.28070068, 0.3375889 , 0.3817104 ],\n",
       "       [0.37694195, 0.551375  , 0.07168303],\n",
       "       [0.4339269 , 0.2756865 , 0.2903866 ],\n",
       "       [0.50279963, 0.4126789 , 0.08452147],\n",
       "       [0.4038116 , 0.5621481 , 0.03404025],\n",
       "       [0.5777299 , 0.40963954, 0.0126306 ],\n",
       "       [0.42891648, 0.47128007, 0.0998034 ],\n",
       "       [0.246055  , 0.70713615, 0.04680876],\n",
       "       [0.3256495 , 0.60489845, 0.06945217],\n",
       "       [0.30884355, 0.3779878 , 0.31316856],\n",
       "       [0.5022621 , 0.25679603, 0.24094185],\n",
       "       [0.14946589, 0.0790778 , 0.77145636],\n",
       "       [0.4238063 , 0.5181736 , 0.05802012],\n",
       "       [0.2820234 , 0.6631781 , 0.05479848],\n",
       "       [0.34884816, 0.6001695 , 0.05098233],\n",
       "       [0.5028418 , 0.0825268 , 0.41463137],\n",
       "       [0.5379591 , 0.33222   , 0.12982093],\n",
       "       [0.4873934 , 0.18381841, 0.32878813],\n",
       "       [0.3707069 , 0.05447078, 0.57482237],\n",
       "       [0.15099052, 0.83655274, 0.01245674],\n",
       "       [0.3643623 , 0.48811713, 0.14752053],\n",
       "       [0.34351325, 0.61906964, 0.03741701],\n",
       "       [0.44326568, 0.13975292, 0.41698137],\n",
       "       [0.19230168, 0.25169873, 0.55599964],\n",
       "       [0.13826904, 0.85497624, 0.00675475],\n",
       "       [0.37233832, 0.56686217, 0.06079948],\n",
       "       [0.63310534, 0.3020907 , 0.06480388],\n",
       "       [0.15157184, 0.8304494 , 0.01797872],\n",
       "       [0.6478031 , 0.30013576, 0.05206115],\n",
       "       [0.18947284, 0.7988039 , 0.01172322],\n",
       "       [0.20734744, 0.21441525, 0.57823735],\n",
       "       [0.3594011 , 0.19451188, 0.44608694],\n",
       "       [0.19532609, 0.39080277, 0.41387117],\n",
       "       [0.26719874, 0.70665944, 0.02614181],\n",
       "       [0.42030624, 0.35811958, 0.22157422],\n",
       "       [0.33177552, 0.55991995, 0.10830457],\n",
       "       [0.34829518, 0.5356602 , 0.11604462],\n",
       "       [0.49112174, 0.2749407 , 0.23393756],\n",
       "       [0.39988908, 0.47926134, 0.12084953],\n",
       "       [0.2775147 , 0.69463897, 0.02784642],\n",
       "       [0.355348  , 0.43198028, 0.21267177],\n",
       "       [0.4520565 , 0.29584137, 0.2521022 ],\n",
       "       [0.48724824, 0.44084582, 0.071906  ],\n",
       "       [0.34893674, 0.15563741, 0.49542585],\n",
       "       [0.45791134, 0.20746605, 0.33462253],\n",
       "       [0.5116295 , 0.15243171, 0.33593878],\n",
       "       [0.17226882, 0.78180975, 0.04592151],\n",
       "       [0.53500855, 0.37129578, 0.09369566],\n",
       "       [0.45747292, 0.23968115, 0.30284595],\n",
       "       [0.2726364 , 0.3318881 , 0.39547542],\n",
       "       [0.35417143, 0.24560791, 0.4002207 ],\n",
       "       [0.46826908, 0.45310265, 0.07862823],\n",
       "       [0.4715701 , 0.35239664, 0.1760332 ],\n",
       "       [0.08942645, 0.09714907, 0.8134245 ],\n",
       "       [0.13241144, 0.05518234, 0.81240624],\n",
       "       [0.2658594 , 0.22815083, 0.50598985],\n",
       "       [0.32481351, 0.66217595, 0.01301047],\n",
       "       [0.34879014, 0.5061561 , 0.14505379],\n",
       "       [0.43423572, 0.40644762, 0.1593167 ]], dtype=float32)"
      ]
     },
     "execution_count": 95,
     "metadata": {},
     "output_type": "execute_result"
    }
   ],
   "source": [
    "sess.run(y, feed_dict={x:getXvalues(data_xy_test), y_:getYvalues(data_xy_test)})\n"
   ]
  },
  {
   "cell_type": "code",
   "execution_count": 58,
   "metadata": {},
   "outputs": [
    {
     "data": {
      "text/plain": [
       "(1, 216)"
      ]
     },
     "execution_count": 58,
     "metadata": {},
     "output_type": "execute_result"
    }
   ],
   "source": [
    "np.shape(shlomi)"
   ]
  },
  {
   "cell_type": "code",
   "execution_count": null,
   "metadata": {},
   "outputs": [],
   "source": []
  },
  {
   "cell_type": "code",
   "execution_count": null,
   "metadata": {},
   "outputs": [],
   "source": []
  },
  {
   "cell_type": "code",
   "execution_count": null,
   "metadata": {},
   "outputs": [],
   "source": []
  },
  {
   "cell_type": "code",
   "execution_count": null,
   "metadata": {},
   "outputs": [],
   "source": []
  },
  {
   "cell_type": "code",
   "execution_count": null,
   "metadata": {},
   "outputs": [],
   "source": []
  }
 ],
 "metadata": {
  "kernelspec": {
   "display_name": "Python 3",
   "language": "python",
   "name": "python3"
  },
  "language_info": {
   "codemirror_mode": {
    "name": "ipython",
    "version": 3
   },
   "file_extension": ".py",
   "mimetype": "text/x-python",
   "name": "python",
   "nbconvert_exporter": "python",
   "pygments_lexer": "ipython3",
   "version": "3.6.5"
  }
 },
 "nbformat": 4,
 "nbformat_minor": 2
}
