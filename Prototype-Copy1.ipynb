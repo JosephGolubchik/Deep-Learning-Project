{
 "cells": [
  {
   "cell_type": "code",
   "execution_count": 1,
   "metadata": {},
   "outputs": [],
   "source": [
    "import tensorflow as tf\n",
    "import librosa.display\n",
    "import matplotlib.pyplot as plt\n",
    "import numpy as np\n",
    "import os\n",
    "import random\n",
    "import timeit\n",
    "import pandas as pd"
   ]
  },
  {
   "cell_type": "code",
   "execution_count": 44,
   "metadata": {},
   "outputs": [],
   "source": [
    "config = tf.ConfigProto()\n",
    "config.intra_op_parallelism_threads = 44\n",
    "config.inter_op_parallelism_threads = 44"
   ]
  },
  {
   "cell_type": "code",
   "execution_count": 2,
   "metadata": {},
   "outputs": [
    {
     "name": "stdout",
     "output_type": "stream",
     "text": [
      "num of files= 384 ,num of actors= 24.0\n"
     ]
    }
   ],
   "source": [
    "filenames = []\n",
    "for file in os.listdir('audio'):\n",
    "    filenames.append(file)\n",
    "# filenames[0:2]\n",
    "print(\"num of files=\",len(filenames),\",num of actors=\",len(filenames)/16)"
   ]
  },
  {
   "cell_type": "code",
   "execution_count": 3,
   "metadata": {},
   "outputs": [],
   "source": [
    "random.shuffle(filenames)"
   ]
  },
  {
   "cell_type": "code",
   "execution_count": 4,
   "metadata": {},
   "outputs": [],
   "source": [
    "# max, min = 76117, 53310\n",
    "# start, end = 21000/sampling_rate, 47424/sampling_rate\n",
    "# wave_length = end-start\n",
    "num_train = int(len(filenames)*0.7)\n",
    "num_test = len(filenames) - num_train"
   ]
  },
  {
   "cell_type": "code",
   "execution_count": 5,
   "metadata": {},
   "outputs": [],
   "source": [
    "# for filename in filenames[:num_train]:\n",
    "#     data, sampling_rate = librosa.load(\"audio/\" + filename, res_type='kaiser_fast', duration=end, offset=start)\n",
    "#     print(len(data))"
   ]
  },
  {
   "cell_type": "code",
   "execution_count": 6,
   "metadata": {},
   "outputs": [],
   "source": [
    "# df = pd.DataFrame(columns=['feature'])\n",
    "# for index, y in enumerate(filenames):\n",
    "#     data, sampling_rate = librosa.load(\"audio/\" + filename, res_type='kaiser_fast', duration=end, offset=start)\n",
    "#     mfccs = np.mean(librosa.feature.mfcc(y=data, n_mfcc=25,), axis=0)\n",
    "#     data_x_train.append(-(mfccs)/100)\n",
    "    \n",
    "# df"
   ]
  },
  {
   "cell_type": "code",
   "execution_count": 7,
   "metadata": {},
   "outputs": [
    {
     "name": "stdout",
     "output_type": "stream",
     "text": [
      "runtime:  53.10320231675781\n"
     ]
    }
   ],
   "source": [
    "data_x_train = []\n",
    "data_x_test = []\n",
    "\n",
    "start_time = timeit.default_timer()\n",
    "for filename in filenames[:num_train]:\n",
    "    data, sampling_rate = librosa.load(\"audio/\" + filename, sr=22050*2, res_type='kaiser_fast', duration=2.5, offset=0.5)\n",
    "    sampling_rate = np.array(sampling_rate)\n",
    "    mfccs = np.mean(librosa.feature.mfcc(y=data, sr=sampling_rate, n_mfcc=13), axis=0)\n",
    "    data_x_train.append(mfccs)\n",
    "    \n",
    "for filename in filenames[num_train:]:\n",
    "    data, sampling_rate = librosa.load(\"audio/\" + filename, sr=22050*2, res_type='kaiser_fast', duration=2.5, offset=0.5)\n",
    "    sampling_rate = np.array(sampling_rate)\n",
    "    mfccs = np.mean(librosa.feature.mfcc(y=data, sr=sampling_rate, n_mfcc=13), axis=0)\n",
    "    data_x_test.append(mfccs)\n",
    "    \n",
    "stop_time = timeit.default_timer()\n",
    "print('runtime: ', stop_time - start_time)  "
   ]
  },
  {
   "cell_type": "code",
   "execution_count": 8,
   "metadata": {},
   "outputs": [],
   "source": [
    "data_y_train = []\n",
    "data_y_test = []\n",
    "\n",
    "for filename in filenames[:num_train]:\n",
    "    if filename[7] == '3':\n",
    "        data_y_train.append(1)\n",
    "    elif filename[7] == '4':\n",
    "        data_y_train.append(0)\n",
    "        \n",
    "for filename in filenames[num_train:]:\n",
    "    if filename[7] == '3':\n",
    "        data_y_test.append(1)\n",
    "    elif filename[7] == '4':\n",
    "        data_y_test.append(0)   "
   ]
  },
  {
   "cell_type": "code",
   "execution_count": 9,
   "metadata": {},
   "outputs": [],
   "source": [
    "# takes every value in data_y to an array\n",
    "# ex: [0, 1, 1, 1, 0] => [[0], [1], [1], [1], [0]]\n",
    "data_y_train_correct = []\n",
    "data_y_test_correct = []\n",
    "\n",
    "for val in data_y_train:\n",
    "    val_arr = []\n",
    "    val_arr.append(val)\n",
    "    data_y_train_correct.append(val_arr)\n",
    "    \n",
    "for val in data_y_test:\n",
    "    val_arr = []\n",
    "    val_arr.append(val)\n",
    "    data_y_test_correct.append(val_arr)"
   ]
  },
  {
   "cell_type": "code",
   "execution_count": 10,
   "metadata": {},
   "outputs": [],
   "source": [
    "data_xy_train = []\n",
    "for i in range(len(data_x_train)):\n",
    "    data_xy_train.append( (data_x_train[i], data_y_train_correct[i]) )\n",
    "    \n",
    "data_xy_test = []\n",
    "for i in range(len(data_x_test)):\n",
    "    data_xy_test.append( (data_x_test[i], data_y_test_correct[i]) )"
   ]
  },
  {
   "cell_type": "code",
   "execution_count": 11,
   "metadata": {},
   "outputs": [],
   "source": [
    "def getXvalues(data_xy):\n",
    "    x_values = []\n",
    "    for data in data_xy:\n",
    "        x_values.append(data[0])\n",
    "    return x_values\n",
    "\n",
    "def getYvalues(data_xy):\n",
    "    y_values = []\n",
    "    for data in data_xy:\n",
    "        y_values.append(data[1])\n",
    "    return y_values"
   ]
  },
  {
   "cell_type": "code",
   "execution_count": 12,
   "metadata": {},
   "outputs": [],
   "source": [
    "def logistic_fun(z):\n",
    "    return 1/(1.0 + np.exp(-z))"
   ]
  },
  {
   "cell_type": "code",
   "execution_count": 13,
   "metadata": {},
   "outputs": [
    {
     "data": {
      "text/plain": [
       "(array([-55.07601615, -53.9678113 , -51.99808471, -52.68013856,\n",
       "        -51.36067524, -45.86783447, -36.45630698, -32.47057839,\n",
       "        -31.77282547, -32.56294718, -34.67399085, -33.43064577,\n",
       "        -29.09111093, -26.89857116, -26.71107754, -28.71720715,\n",
       "        -30.45515047, -32.71562139, -35.16324702, -35.41624771,\n",
       "        -37.35934093, -37.7827195 , -36.35807318, -38.03954142,\n",
       "        -41.45006943, -40.81065937, -39.87549205, -39.98055298,\n",
       "        -39.40778851, -40.10612067, -39.78948542, -39.82555294,\n",
       "        -39.31292027, -37.6655235 , -36.88787769, -33.34667676,\n",
       "        -34.09162509, -34.97651001, -37.72858469, -38.51466028,\n",
       "        -38.07990811, -36.6012043 , -34.94932801, -31.61729344,\n",
       "        -30.20094427, -29.08541214, -28.90440469, -28.2859377 ,\n",
       "        -29.18559165, -31.46124104, -31.01546429, -30.57209871,\n",
       "        -24.2393767 , -20.95394371, -22.5253479 , -22.88496211,\n",
       "        -22.69047066, -24.26398895, -26.28268307, -26.38481951,\n",
       "        -26.83101865, -30.368966  , -31.79876459, -31.78671041,\n",
       "        -28.09156858, -28.84002137, -26.63498797, -26.17193864,\n",
       "        -26.08523429, -23.9304598 , -22.69981278, -18.72642348,\n",
       "        -16.11299052, -18.01862147, -20.93767054, -20.90202711,\n",
       "        -24.22119777, -26.48246001, -26.69701094, -28.32968195,\n",
       "        -30.19992823, -27.56955315, -27.64348637, -26.39253626,\n",
       "        -24.10913529, -23.24740551, -22.16100535, -21.25514864,\n",
       "        -19.29330519, -19.23497418, -23.22951912, -24.4317968 ,\n",
       "        -24.37609609, -23.37548012, -23.95620144, -24.37588706,\n",
       "        -23.32018112, -22.41355856, -20.39699776, -19.27777683,\n",
       "        -20.77395511, -20.80157794, -20.43518343, -21.12605813,\n",
       "        -21.86756835, -23.50383693, -25.07521225, -26.70178066,\n",
       "        -26.38406038, -25.03892729, -25.62325768, -26.27786774,\n",
       "        -28.10223083, -30.01829484, -29.23684721, -29.42295459,\n",
       "        -27.98050359, -27.63775039, -28.31394508, -27.63072025,\n",
       "        -28.00728506, -27.61703199, -27.52276821, -25.27397154,\n",
       "        -24.29618886, -24.61141833, -25.81250735, -27.1000517 ,\n",
       "        -28.57913685, -28.85855573, -28.62800026, -27.40126218,\n",
       "        -26.25745688, -24.29509333, -22.47084897, -22.17988638,\n",
       "        -22.67889254, -25.56318629, -28.97434359, -27.42143553,\n",
       "        -24.44087345, -23.17817142, -21.55827075, -19.72577346,\n",
       "        -21.40331797, -23.59332414, -25.66683412, -26.39225033,\n",
       "        -25.45272615, -23.89204309, -24.6535154 , -25.51973677,\n",
       "        -24.56214602, -20.2375192 , -17.67048605, -20.03678862,\n",
       "        -21.0339723 , -21.76016198, -22.62397378, -22.01707339,\n",
       "        -22.22078996, -23.01455673, -22.3386452 , -23.342484  ,\n",
       "        -24.28046761, -24.69652475, -23.68114256, -22.13006117,\n",
       "        -21.72646132, -22.56932896, -23.7289926 , -24.55345435,\n",
       "        -25.22469188, -24.61453978, -24.63413097, -26.12035916,\n",
       "        -25.4198243 , -24.23212943, -23.34484896, -24.46510518,\n",
       "        -25.09405111, -25.56193039, -25.12403851, -26.35328307,\n",
       "        -28.31716962, -30.86053767, -32.13420728, -33.51433534,\n",
       "        -34.7703982 , -35.60298778, -36.27565207, -37.52584218,\n",
       "        -38.52710252, -37.80547767, -38.91290795, -39.87326578,\n",
       "        -38.22224769, -38.86947964, -42.16339046, -41.2173791 ,\n",
       "        -41.22125907, -42.43597707, -41.92608603, -43.23641962,\n",
       "        -44.35954897, -45.23353502, -45.26302824, -44.6390379 ,\n",
       "        -44.78068234, -45.11920712, -43.7528713 , -43.10218509,\n",
       "        -45.2092875 , -44.96019995, -44.03250927, -44.37965237]), [0])"
      ]
     },
     "execution_count": 13,
     "metadata": {},
     "output_type": "execute_result"
    }
   ],
   "source": [
    "data_xy_train[1]"
   ]
  },
  {
   "cell_type": "code",
   "execution_count": 51,
   "metadata": {},
   "outputs": [
    {
     "name": "stdout",
     "output_type": "stream",
     "text": [
      "runtime:  3828.3881984928903\n"
     ]
    }
   ],
   "source": [
    "features = len(data_xy_train[0][0])\n",
    "eps = 1e-12\n",
    "\n",
    "x = tf.placeholder(tf.float32, [None, features])\n",
    "y_ = tf.placeholder(tf.float32, [None, 1])\n",
    "W = tf.Variable(tf.zeros([features,1]))\n",
    "b = tf.Variable(tf.zeros([1]))\n",
    "y = 1 / (1.0 + tf.exp(-(tf.matmul(x,W) + b)))\n",
    "\n",
    "loss1 = -(y_ * tf.log(y + eps) + (1 - y_) * tf.log(1 - y + eps))\n",
    "loss = tf.reduce_mean(loss1)\n",
    "update = tf.train.GradientDescentOptimizer(0.00001).minimize(loss)\n",
    "\n",
    "sess = tf.Session(config=config)\n",
    "sess.run(tf.global_variables_initializer())\n",
    "\n",
    "loss_history_train = []\n",
    "loss_history_test = []\n",
    "accuracy_history = []\n",
    "\n",
    "start_time = timeit.default_timer()\n",
    "\n",
    "for i in range(0,100000):\n",
    "    sess.run(update, feed_dict = {x:getXvalues(data_xy_train), y_:getYvalues(data_xy_train)}) #BGD\n",
    "    loss_history_train.append(np.mean(sess.run(loss1, feed_dict = {x:getXvalues(data_xy_train), y_:getYvalues(data_xy_train)})))\n",
    "    random.shuffle(data_xy_train)\n",
    "    \n",
    "    if i%10 == 0:\n",
    "        right = 0\n",
    "        for i in range(len(data_x_test)):\n",
    "            pred = logistic_fun(np.matmul(getXvalues(data_xy_train)[i],sess.run(W)) + sess.run(b))\n",
    "            loss_history_test.append(np.mean(sess.run(loss1, feed_dict = {x:getXvalues(data_xy_test), y_:getYvalues(data_xy_test)})))\n",
    "            if data_y_test[i] == 0 and pred < 0.5:\n",
    "                right += 1\n",
    "            if data_y_test[i] == 1 and pred > 0.5:\n",
    "                right += 1\n",
    "        accuracy_history.append(right/num_test)\n",
    "\n",
    "stop_time = timeit.default_timer()\n",
    "print('runtime: ', stop_time - start_time)  "
   ]
  },
  {
   "cell_type": "code",
   "execution_count": 52,
   "metadata": {},
   "outputs": [],
   "source": [
    "# data_x_train =          [arr1, arr2, arr3]       # data_x_test = [arr4, arr5]\n",
    "# shuffle(data_x_train) = [arr2, arr3, arr1]\n",
    "# data_y_train = [0, 1, 1] # data_y_test = [0, 1]\n",
    "\n",
    "right = 0\n",
    "\n",
    "for i in range(len(data_x_test)):\n",
    "    pred = logistic_fun(np.matmul(getXvalues(data_xy_train)[i],sess.run(W)) + sess.run(b))\n",
    "    if data_y_test[i] == 0 and pred < 0.5:\n",
    "        right += 1\n",
    "    if data_y_test[i] == 1 and pred > 0.5:\n",
    "        right += 1\n",
    "#     print(\"pred:\",pred,\"=\",np.round(pred),\"true:\",data_y_test[i],\"right:\",right)"
   ]
  },
  {
   "cell_type": "code",
   "execution_count": 53,
   "metadata": {},
   "outputs": [
    {
     "name": "stdout",
     "output_type": "stream",
     "text": [
      "right: 63 ,total: 116 ,accuracy: 0.5431034482758621\n"
     ]
    }
   ],
   "source": [
    "#with happy/sad files from first 4 actors we got 6 out of 20 correct, 30%\n",
    "#with happy/sad files from first 8 actors we got 15 out of 39 correct, 38.46153846153847%\n",
    "print(\"right:\",right,\",total:\",num_test,\",accuracy:\",right/num_test)"
   ]
  },
  {
   "cell_type": "code",
   "execution_count": 54,
   "metadata": {},
   "outputs": [
    {
     "data": {
      "text/plain": [
       "[<matplotlib.lines.Line2D at 0x25c41470>]"
      ]
     },
     "execution_count": 54,
     "metadata": {},
     "output_type": "execute_result"
    },
    {
     "data": {
      "image/png": "[encoded data removed]",
      "text/plain": [
       "<Figure size 432x288 with 1 Axes>"
      ]
     },
     "metadata": {
      "needs_background": "light"
     },
     "output_type": "display_data"
    }
   ],
   "source": [
    "plt.plot(loss_history_train)"
   ]
  },
  {
   "cell_type": "code",
   "execution_count": 55,
   "metadata": {},
   "outputs": [
    {
     "data": {
      "text/plain": [
       "[<matplotlib.lines.Line2D at 0x25e2b940>]"
      ]
     },
     "execution_count": 55,
     "metadata": {},
     "output_type": "execute_result"
    },
    {
     "data": {
      "image/png": "[encoded data removed]",
      "text/plain": [
       "<Figure size 432x288 with 1 Axes>"
      ]
     },
     "metadata": {
      "needs_background": "light"
     },
     "output_type": "display_data"
    }
   ],
   "source": [
    "plt.plot(loss_history_test)"
   ]
  },
  {
   "cell_type": "code",
   "execution_count": 56,
   "metadata": {},
   "outputs": [
    {
     "data": {
      "text/plain": [
       "[<matplotlib.lines.Line2D at 0x25e8f940>]"
      ]
     },
     "execution_count": 56,
     "metadata": {},
     "output_type": "execute_result"
    },
    {
     "data": {
      "image/png": "[encoded data removed]",
      "text/plain": [
       "<Figure size 432x288 with 1 Axes>"
      ]
     },
     "metadata": {
      "needs_background": "light"
     },
     "output_type": "display_data"
    }
   ],
   "source": [
    "plt.plot(accuracy_history)"
   ]
  },
  {
   "cell_type": "code",
   "execution_count": null,
   "metadata": {},
   "outputs": [],
   "source": []
  },
  {
   "cell_type": "code",
   "execution_count": null,
   "metadata": {},
   "outputs": [],
   "source": []
  },
  {
   "cell_type": "code",
   "execution_count": null,
   "metadata": {},
   "outputs": [],
   "source": []
  },
  {
   "cell_type": "code",
   "execution_count": null,
   "metadata": {},
   "outputs": [],
   "source": []
  },
  {
   "cell_type": "code",
   "execution_count": null,
   "metadata": {},
   "outputs": [],
   "source": []
  },
  {
   "cell_type": "code",
   "execution_count": null,
   "metadata": {},
   "outputs": [],
   "source": []
  },
  {
   "cell_type": "code",
   "execution_count": null,
   "metadata": {},
   "outputs": [],
   "source": []
  },
  {
   "cell_type": "code",
   "execution_count": null,
   "metadata": {},
   "outputs": [],
   "source": []
  }
 ],
 "metadata": {
  "kernelspec": {
   "display_name": "Python 3",
   "language": "python",
   "name": "python3"
  },
  "language_info": {
   "codemirror_mode": {
    "name": "ipython",
    "version": 3
   },
   "file_extension": ".py",
   "mimetype": "text/x-python",
   "name": "python",
   "nbconvert_exporter": "python",
   "pygments_lexer": "ipython3",
   "version": "3.6.5"
  }
 },
 "nbformat": 4,
 "nbformat_minor": 2
}
