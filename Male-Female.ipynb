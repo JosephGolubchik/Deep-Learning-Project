{
 "cells": [
  {
   "cell_type": "code",
   "execution_count": 2,
   "metadata": {},
   "outputs": [],
   "source": [
    "import tensorflow as tf\n",
    "import librosa.display\n",
    "import matplotlib.pyplot as plt\n",
    "import numpy as np\n",
    "import os\n",
    "import random\n",
    "import timeit"
   ]
  },
  {
   "cell_type": "code",
   "execution_count": 5,
   "metadata": {},
   "outputs": [
    {
     "name": "stdout",
     "output_type": "stream",
     "text": [
      "num of files= 256 ,num of actors= 16.0\n"
     ]
    }
   ],
   "source": [
    "filenames = []\n",
    "for file in os.listdir('audio'):\n",
    "    filenames.append(file)\n",
    "# filenames[0:2]\n",
    "print(\"num of files=\",len(filenames),\",num of actors=\",len(filenames)/16)"
   ]
  },
  {
   "cell_type": "code",
   "execution_count": 6,
   "metadata": {},
   "outputs": [],
   "source": [
    "random.shuffle(filenames)"
   ]
  },
  {
   "cell_type": "code",
   "execution_count": 7,
   "metadata": {},
   "outputs": [],
   "source": [
    "# max, min = 76117, 53310\n",
    "# start, end = 21000/sampling_rate, 47424/sampling_rate\n",
    "# wave_length = end-start\n",
    "num_train = int(len(filenames)*0.7)\n",
    "num_test = len(filenames) - num_train"
   ]
  },
  {
   "cell_type": "code",
   "execution_count": 8,
   "metadata": {},
   "outputs": [],
   "source": [
    "# for filename in filenames[:num_train]:\n",
    "#     data, sampling_rate = librosa.load(\"audio/\" + filename, res_type='kaiser_fast', duration=end, offset=start)\n",
    "#     print(len(data))"
   ]
  },
  {
   "cell_type": "code",
   "execution_count": 9,
   "metadata": {},
   "outputs": [],
   "source": [
    "# df = pd.DataFrame(columns=['feature'])\n",
    "# for index, y in enumerate(filenames):\n",
    "#     data, sampling_rate = librosa.load(\"audio/\" + filename, res_type='kaiser_fast', duration=end, offset=start)\n",
    "#     mfccs = np.mean(librosa.feature.mfcc(y=data, n_mfcc=25,), axis=0)\n",
    "#     data_x_train.append(-(mfccs)/100)\n",
    "    \n",
    "# df"
   ]
  },
  {
   "cell_type": "code",
   "execution_count": 10,
   "metadata": {},
   "outputs": [
    {
     "name": "stdout",
     "output_type": "stream",
     "text": [
      "runtime:  14.600832553235824\n"
     ]
    }
   ],
   "source": [
    "data_x_train = []\n",
    "data_x_test = []\n",
    "\n",
    "start_time = timeit.default_timer()\n",
    "for filename in filenames[:num_train]:\n",
    "    data, sampling_rate = librosa.load(\"audio/\" + filename, sr=22050*2, res_type='kaiser_fast', duration=2.5, offset=0.5)\n",
    "    sampling_rate = np.array(sampling_rate)\n",
    "    mfccs = np.mean(librosa.feature.mfcc(y=data, sr=sampling_rate, n_mfcc=13), axis=0)\n",
    "    data_x_train.append(mfccs)\n",
    "    \n",
    "for filename in filenames[num_train:]:\n",
    "    data, sampling_rate = librosa.load(\"audio/\" + filename, sr=22050*2, res_type='kaiser_fast', duration=2.5, offset=0.5)\n",
    "    sampling_rate = np.array(sampling_rate)\n",
    "    mfccs = np.mean(librosa.feature.mfcc(y=data, sr=sampling_rate, n_mfcc=13), axis=0)\n",
    "    data_x_test.append(mfccs)\n",
    "    \n",
    "stop_time = timeit.default_timer()\n",
    "print('runtime: ', stop_time - start_time)  "
   ]
  },
  {
   "cell_type": "code",
   "execution_count": 11,
   "metadata": {},
   "outputs": [],
   "source": [
    "data_y_train = []\n",
    "data_y_test = []\n",
    "\n",
    "for filename in filenames[:num_train]:\n",
    "    if int(filename[19])%2 == 0:\n",
    "        data_y_train.append(1)\n",
    "    else:\n",
    "        data_y_train.append(0)\n",
    "        \n",
    "for filename in filenames[num_train:]:\n",
    "    if int(filename[19])%2 == 0:\n",
    "        data_y_test.append(1)\n",
    "    else:\n",
    "        data_y_test.append(0) "
   ]
  },
  {
   "cell_type": "code",
   "execution_count": 12,
   "metadata": {},
   "outputs": [],
   "source": [
    "# takes every value in data_y to an array\n",
    "# ex: [0, 1, 1, 1, 0] => [[0], [1], [1], [1], [0]]\n",
    "data_y_train_correct = []\n",
    "data_y_test_correct = []\n",
    "\n",
    "for val in data_y_train:\n",
    "    val_arr = []\n",
    "    val_arr.append(val)\n",
    "    data_y_train_correct.append(val_arr)\n",
    "    \n",
    "for val in data_y_test:\n",
    "    val_arr = []\n",
    "    val_arr.append(val)\n",
    "    data_y_test_correct.append(val_arr)"
   ]
  },
  {
   "cell_type": "code",
   "execution_count": 13,
   "metadata": {},
   "outputs": [
    {
     "data": {
      "text/plain": [
       "77"
      ]
     },
     "execution_count": 13,
     "metadata": {},
     "output_type": "execute_result"
    }
   ],
   "source": [
    "len(data_y_test)"
   ]
  },
  {
   "cell_type": "code",
   "execution_count": 14,
   "metadata": {},
   "outputs": [],
   "source": [
    "data_xy_train = []\n",
    "for i in range(len(data_x_train)):\n",
    "    data_xy_train.append( (data_x_train[i], data_y_train_correct[i]) )\n",
    "    \n",
    "data_xy_test = []\n",
    "for i in range(len(data_x_test)):\n",
    "    data_xy_test.append( (data_x_test[i], data_y_test_correct[i]) )"
   ]
  },
  {
   "cell_type": "code",
   "execution_count": 15,
   "metadata": {},
   "outputs": [],
   "source": [
    "def getXvalues(data_xy):\n",
    "    x_values = []\n",
    "    for data in data_xy:\n",
    "        x_values.append(data[0])\n",
    "    return x_values\n",
    "\n",
    "def getYvalues(data_xy):\n",
    "    y_values = []\n",
    "    for data in data_xy:\n",
    "        y_values.append(data[1])\n",
    "    return y_values"
   ]
  },
  {
   "cell_type": "code",
   "execution_count": 16,
   "metadata": {},
   "outputs": [],
   "source": [
    "def logistic_fun(z):\n",
    "    return 1/(1.0 + np.exp(-z))"
   ]
  },
  {
   "cell_type": "code",
   "execution_count": 17,
   "metadata": {},
   "outputs": [
    {
     "data": {
      "text/plain": [
       "216"
      ]
     },
     "execution_count": 17,
     "metadata": {},
     "output_type": "execute_result"
    }
   ],
   "source": [
    "len(data_xy_train[1][0])"
   ]
  },
  {
   "cell_type": "code",
   "execution_count": 152,
   "metadata": {},
   "outputs": [
    {
     "name": "stdout",
     "output_type": "stream",
     "text": [
      "runtime:  41.98220382470663\n"
     ]
    }
   ],
   "source": [
    "features = len(data_xy_train[0][0])\n",
    "eps = 1e-12\n",
    "\n",
    "x = tf.placeholder(tf.float32, [None, features])\n",
    "y_ = tf.placeholder(tf.float32, [None, 1])\n",
    "W = tf.Variable(tf.zeros([features,1]))\n",
    "b = tf.Variable(tf.zeros([1]))\n",
    "y = tf.nn.sigmoid(tf.matmul(x,W)+b)\n",
    "\n",
    "loss1 = -(y_ * tf.log(y + eps) + (1 - y_) * tf.log(1 - y + eps))\n",
    "loss = tf.reduce_mean(loss1)\n",
    "update = tf.train.GradientDescentOptimizer(0.00002).minimize(loss)\n",
    "\n",
    "sess = tf.Session()\n",
    "sess.run(tf.global_variables_initializer())\n",
    "\n",
    "loss_history_train = []\n",
    "loss_history_test = []\n",
    "accuracy_history = []\n",
    "\n",
    "start_time = timeit.default_timer()\n",
    "\n",
    "for i in range(0,10000):\n",
    "    sess.run(update, feed_dict = {x:getXvalues(data_xy_train), y_:getYvalues(data_xy_train)}) #BGD\n",
    "    loss_history_train.append(np.mean(sess.run(loss1, feed_dict = {x:getXvalues(data_xy_train), y_:getYvalues(data_xy_train)})))\n",
    "    random.shuffle(data_xy_train)\n",
    "    \n",
    "#     if i%1 == 0:\n",
    "#         tp, tn, fp, fn = 0,0,0,0\n",
    "#         for i in range(len(data_x_test)):\n",
    "#             pred = logistic_fun(np.matmul(getXvalues(data_xy_test)[i],sess.run(W)) + sess.run(b))\n",
    "#             loss_history_test.append(np.mean(sess.run(loss1, feed_dict = {x:getXvalues(data_xy_test), y_:getYvalues(data_xy_test)})))\n",
    "#             if data_y_test[i] == 0 and pred < 0.5:\n",
    "#                 tn += 1\n",
    "#             elif data_y_test[i] == 0 and pred > 0.5:\n",
    "#                 fn += 1\n",
    "#             if data_y_test[i] == 1 and pred > 0.5:\n",
    "#                 tp += 1\n",
    "#             elif data_y_test[i] == 1 and pred < 0.5:\n",
    "#                 fp += 1\n",
    "#         accuracy_history.append((tp+tn)/(tp+tn+fp+fn))\n",
    "\n",
    "stop_time = timeit.default_timer()\n",
    "print('runtime: ', stop_time - start_time)  "
   ]
  },
  {
   "cell_type": "code",
   "execution_count": 188,
   "metadata": {},
   "outputs": [
    {
     "name": "stdout",
     "output_type": "stream",
     "text": [
      "pred: [0.99582024] = [1.] true: 1\n",
      "pred: [0.01322975] = [0.] true: 0\n",
      "pred: [0.28080849] = [0.] true: 1\n",
      "pred: [0.00931243] = [0.] true: 0\n",
      "pred: [0.96997574] = [1.] true: 1\n",
      "pred: [0.26617244] = [0.] true: 1\n",
      "pred: [0.00147399] = [0.] true: 0\n",
      "pred: [0.99998868] = [1.] true: 1\n",
      "pred: [0.00592916] = [0.] true: 0\n",
      "pred: [0.01301408] = [0.] true: 0\n",
      "pred: [0.00274283] = [0.] true: 0\n",
      "pred: [0.88726229] = [1.] true: 0\n",
      "pred: [0.62136014] = [1.] true: 1\n",
      "pred: [0.25175381] = [0.] true: 0\n",
      "pred: [0.11541945] = [0.] true: 0\n",
      "pred: [0.01331096] = [0.] true: 0\n",
      "pred: [0.9983599] = [1.] true: 1\n",
      "pred: [0.98192533] = [1.] true: 1\n",
      "pred: [0.97818851] = [1.] true: 1\n",
      "pred: [0.80924577] = [1.] true: 1\n",
      "pred: [0.01084191] = [0.] true: 0\n",
      "pred: [0.95355739] = [1.] true: 1\n",
      "pred: [0.48993789] = [0.] true: 1\n",
      "pred: [0.00152432] = [0.] true: 0\n",
      "pred: [0.96617869] = [1.] true: 1\n",
      "pred: [0.88694183] = [1.] true: 1\n",
      "pred: [0.98034199] = [1.] true: 1\n",
      "pred: [0.49257025] = [0.] true: 1\n",
      "pred: [0.01869554] = [0.] true: 0\n",
      "pred: [0.7035411] = [1.] true: 1\n",
      "pred: [0.99707284] = [1.] true: 1\n",
      "pred: [0.04700677] = [0.] true: 0\n",
      "pred: [0.37582717] = [0.] true: 1\n",
      "pred: [0.6563042] = [1.] true: 1\n",
      "pred: [0.79598541] = [1.] true: 0\n",
      "pred: [0.00406062] = [0.] true: 0\n",
      "pred: [0.36238691] = [0.] true: 1\n",
      "pred: [0.94194664] = [1.] true: 1\n",
      "pred: [0.99044349] = [1.] true: 1\n",
      "pred: [0.15340908] = [0.] true: 0\n",
      "pred: [0.02026143] = [0.] true: 0\n",
      "pred: [0.04006182] = [0.] true: 0\n",
      "pred: [0.73034861] = [1.] true: 1\n",
      "pred: [0.51418622] = [1.] true: 1\n",
      "pred: [0.96930492] = [1.] true: 1\n",
      "pred: [0.991206] = [1.] true: 1\n",
      "pred: [0.0003535] = [0.] true: 0\n",
      "pred: [0.98667315] = [1.] true: 1\n",
      "pred: [0.00618373] = [0.] true: 0\n",
      "pred: [0.29765852] = [0.] true: 1\n",
      "pred: [0.00486694] = [0.] true: 0\n",
      "pred: [0.16611181] = [0.] true: 0\n",
      "pred: [0.0316167] = [0.] true: 0\n",
      "pred: [0.00065527] = [0.] true: 0\n",
      "pred: [0.50263265] = [1.] true: 1\n",
      "pred: [0.00773207] = [0.] true: 0\n",
      "pred: [0.0875028] = [0.] true: 0\n",
      "pred: [0.00762731] = [0.] true: 0\n",
      "pred: [0.57952604] = [1.] true: 1\n",
      "pred: [0.90320564] = [1.] true: 1\n",
      "pred: [0.0080911] = [0.] true: 0\n",
      "pred: [0.00257724] = [0.] true: 0\n",
      "pred: [0.51150983] = [1.] true: 1\n",
      "pred: [0.83169266] = [1.] true: 1\n",
      "pred: [0.92673015] = [1.] true: 1\n",
      "pred: [0.04939591] = [0.] true: 0\n",
      "pred: [0.76385275] = [1.] true: 1\n",
      "pred: [0.01590897] = [0.] true: 0\n",
      "pred: [0.09039] = [0.] true: 0\n",
      "pred: [0.08448206] = [0.] true: 0\n",
      "pred: [0.00149091] = [0.] true: 0\n",
      "pred: [0.80850902] = [1.] true: 1\n",
      "pred: [0.00052982] = [0.] true: 0\n",
      "pred: [0.99958341] = [1.] true: 1\n",
      "pred: [0.1045503] = [0.] true: 0\n",
      "pred: [0.00239532] = [0.] true: 0\n",
      "pred: [0.01141316] = [0.] true: 1\n",
      "tp: 31 ,tn 36 ,fp: 8 ,fn: 2\n"
     ]
    }
   ],
   "source": [
    "# data_x_train =          [arr1, arr2, arr3]       # data_x_test = [arr4, arr5]\n",
    "# shuffle(data_x_train) = [arr2, arr3, arr1]\n",
    "# data_y_train = [0, 1, 1] # data_y_test = [0, 1]\n",
    "\n",
    "tp, tn, fp, fn = 0,0,0,0\n",
    "\n",
    "for i in range(len(data_x_test)):\n",
    "    pred = logistic_fun(np.matmul(getXvalues(data_xy_test)[i],sess.run(W)) + sess.run(b))\n",
    "    if data_y_test[i] == 0 and pred < 0.5:\n",
    "        tn += 1\n",
    "    elif data_y_test[i] == 0 and pred > 0.5:\n",
    "        fn += 1\n",
    "    if data_y_test[i] == 1 and pred > 0.5:\n",
    "        tp += 1\n",
    "    elif data_y_test[i] == 1 and pred < 0.5:\n",
    "        fp += 1\n",
    "    print(\"pred:\",pred,\"=\",np.round(pred),\"true:\",data_y_test[i])\n",
    "print(\"tp:\",tp,\",tn\",tn,\",fp:\",fp,\",fn:\",fn)"
   ]
  },
  {
   "cell_type": "code",
   "execution_count": 187,
   "metadata": {},
   "outputs": [
    {
     "name": "stdout",
     "output_type": "stream",
     "text": [
      "accuracy: 0.8701298701298701\n",
      "recall: 0.9393939393939394\n",
      "precision: 0.7948717948717948\n"
     ]
    }
   ],
   "source": [
    "#with happy/sad files from first 4 actors we got 6 out of 20 correct, 30%\n",
    "#with happy/sad files from first 8 actors we got 15 out of 39 correct, 38.46153846153847%\n",
    "print(\"accuracy:\",(tp+tn)/(tp+tn+fp+fn))\n",
    "print(\"recall:\",(tp)/(tp+fn))\n",
    "print(\"precision:\",(tp)/(tp+fp))"
   ]
  },
  {
   "cell_type": "code",
   "execution_count": 155,
   "metadata": {},
   "outputs": [
    {
     "data": {
      "text/plain": [
       "[<matplotlib.lines.Line2D at 0x49293a20>]"
      ]
     },
     "execution_count": 155,
     "metadata": {},
     "output_type": "execute_result"
    },
    {
     "data": {
      "image/png": "[encoded data removed]",
      "text/plain": [
       "<Figure size 432x288 with 1 Axes>"
      ]
     },
     "metadata": {
      "needs_background": "light"
     },
     "output_type": "display_data"
    }
   ],
   "source": [
    "plt.plot(loss_history_train)"
   ]
  },
  {
   "cell_type": "code",
   "execution_count": 156,
   "metadata": {},
   "outputs": [
    {
     "data": {
      "text/plain": [
       "[<matplotlib.lines.Line2D at 0x492d44a8>]"
      ]
     },
     "execution_count": 156,
     "metadata": {},
     "output_type": "execute_result"
    },
    {
     "data": {
      "image/png": "[encoded data removed]",
      "text/plain": [
       "<Figure size 432x288 with 1 Axes>"
      ]
     },
     "metadata": {
      "needs_background": "light"
     },
     "output_type": "display_data"
    }
   ],
   "source": [
    "plt.plot(loss_history_test)"
   ]
  },
  {
   "cell_type": "code",
   "execution_count": 157,
   "metadata": {},
   "outputs": [
    {
     "data": {
      "text/plain": [
       "[<matplotlib.lines.Line2D at 0x49322a58>]"
      ]
     },
     "execution_count": 157,
     "metadata": {},
     "output_type": "execute_result"
    },
    {
     "data": {
      "image/png": "[encoded data removed]",
      "text/plain": [
       "<Figure size 432x288 with 1 Axes>"
      ]
     },
     "metadata": {
      "needs_background": "light"
     },
     "output_type": "display_data"
    }
   ],
   "source": [
    "plt.plot(accuracy_history)"
   ]
  },
  {
   "cell_type": "code",
   "execution_count": 185,
   "metadata": {},
   "outputs": [],
   "source": [
    "test_audio = []\n",
    "\n",
    "data, sampling_rate = librosa.load(\"eli1.wav\", sr=22050*2, res_type='kaiser_fast', duration=2.5, offset=0.5)\n",
    "sampling_rate = np.array(sampling_rate)\n",
    "mfccs = np.mean(librosa.feature.mfcc(y=data, sr=sampling_rate, n_mfcc=13), axis=0)\n",
    "test_audio.append(mfccs)"
   ]
  },
  {
   "cell_type": "code",
   "execution_count": 186,
   "metadata": {},
   "outputs": [
    {
     "data": {
      "text/plain": [
       "array([[0.99865604]])"
      ]
     },
     "execution_count": 186,
     "metadata": {},
     "output_type": "execute_result"
    }
   ],
   "source": [
    "logistic_fun(np.matmul(test_audio,sess.run(W)) + sess.run(b))"
   ]
  },
  {
   "cell_type": "code",
   "execution_count": null,
   "metadata": {},
   "outputs": [],
   "source": []
  },
  {
   "cell_type": "code",
   "execution_count": null,
   "metadata": {},
   "outputs": [],
   "source": []
  },
  {
   "cell_type": "code",
   "execution_count": null,
   "metadata": {},
   "outputs": [],
   "source": []
  },
  {
   "cell_type": "code",
   "execution_count": null,
   "metadata": {},
   "outputs": [],
   "source": []
  }
 ],
 "metadata": {
  "kernelspec": {
   "display_name": "Python 3",
   "language": "python",
   "name": "python3"
  },
  "language_info": {
   "codemirror_mode": {
    "name": "ipython",
    "version": 3
   },
   "file_extension": ".py",
   "mimetype": "text/x-python",
   "name": "python",
   "nbconvert_exporter": "python",
   "pygments_lexer": "ipython3",
   "version": "3.6.5"
  }
 },
 "nbformat": 4,
 "nbformat_minor": 2
}
