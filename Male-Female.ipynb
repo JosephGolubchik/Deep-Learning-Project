{
 "cells": [
  {
   "cell_type": "code",
   "execution_count": 164,
   "metadata": {},
   "outputs": [],
   "source": [
    "import tensorflow as tf\n",
    "import librosa.display\n",
    "import matplotlib.pyplot as plt\n",
    "import numpy as np\n",
    "import os\n",
    "import random\n",
    "import timeit\n",
    "import pandas as pd"
   ]
  },
  {
   "cell_type": "code",
   "execution_count": 165,
   "metadata": {},
   "outputs": [
    {
     "name": "stdout",
     "output_type": "stream",
     "text": [
      "num of files= 384 ,num of actors= 24.0\n"
     ]
    }
   ],
   "source": [
    "filenames = []\n",
    "for file in os.listdir('audio'):\n",
    "    filenames.append(file)\n",
    "# filenames[0:2]\n",
    "print(\"num of files=\",len(filenames),\",num of actors=\",len(filenames)/16)"
   ]
  },
  {
   "cell_type": "code",
   "execution_count": 166,
   "metadata": {},
   "outputs": [],
   "source": [
    "random.shuffle(filenames)"
   ]
  },
  {
   "cell_type": "code",
   "execution_count": 167,
   "metadata": {},
   "outputs": [],
   "source": [
    "# max, min = 76117, 53310\n",
    "# start, end = 21000/sampling_rate, 47424/sampling_rate\n",
    "# wave_length = end-start\n",
    "num_train = int(len(filenames)*0.7)\n",
    "num_test = len(filenames) - num_train"
   ]
  },
  {
   "cell_type": "code",
   "execution_count": 168,
   "metadata": {},
   "outputs": [],
   "source": [
    "# for filename in filenames[:num_train]:\n",
    "#     data, sampling_rate = librosa.load(\"audio/\" + filename, res_type='kaiser_fast', duration=end, offset=start)\n",
    "#     print(len(data))"
   ]
  },
  {
   "cell_type": "code",
   "execution_count": 169,
   "metadata": {},
   "outputs": [],
   "source": [
    "# df = pd.DataFrame(columns=['feature'])\n",
    "# for index, y in enumerate(filenames):\n",
    "#     data, sampling_rate = librosa.load(\"audio/\" + filename, res_type='kaiser_fast', duration=end, offset=start)\n",
    "#     mfccs = np.mean(librosa.feature.mfcc(y=data, n_mfcc=25,), axis=0)\n",
    "#     data_x_train.append(-(mfccs)/100)\n",
    "    \n",
    "# df"
   ]
  },
  {
   "cell_type": "code",
   "execution_count": 170,
   "metadata": {},
   "outputs": [
    {
     "name": "stdout",
     "output_type": "stream",
     "text": [
      "runtime:  55.07347684393699\n"
     ]
    }
   ],
   "source": [
    "data_x_train = []\n",
    "data_x_test = []\n",
    "\n",
    "start_time = timeit.default_timer()\n",
    "for filename in filenames[:num_train]:\n",
    "    data, sampling_rate = librosa.load(\"audio/\" + filename, sr=22050*2, res_type='kaiser_fast', duration=2.5, offset=0.5)\n",
    "    sampling_rate = np.array(sampling_rate)\n",
    "    mfccs = np.mean(librosa.feature.mfcc(y=data, sr=sampling_rate, n_mfcc=13), axis=0)\n",
    "    data_x_train.append(mfccs)\n",
    "    \n",
    "for filename in filenames[num_train:]:\n",
    "    data, sampling_rate = librosa.load(\"audio/\" + filename, sr=22050*2, res_type='kaiser_fast', duration=2.5, offset=0.5)\n",
    "    sampling_rate = np.array(sampling_rate)\n",
    "    mfccs = np.mean(librosa.feature.mfcc(y=data, sr=sampling_rate, n_mfcc=13), axis=0)\n",
    "    data_x_test.append(mfccs)\n",
    "    \n",
    "stop_time = timeit.default_timer()\n",
    "print('runtime: ', stop_time - start_time)  "
   ]
  },
  {
   "cell_type": "code",
   "execution_count": 171,
   "metadata": {},
   "outputs": [],
   "source": [
    "data_y_train = []\n",
    "data_y_test = []\n",
    "\n",
    "for filename in filenames[:num_train]:\n",
    "    if int(filename[19])%2 == 0:\n",
    "        data_y_train.append(1)\n",
    "    else:\n",
    "        data_y_train.append(0)\n",
    "        \n",
    "for filename in filenames[num_train:]:\n",
    "    if int(filename[19])%2 == 0:\n",
    "        data_y_test.append(1)\n",
    "    else:\n",
    "        data_y_test.append(0) "
   ]
  },
  {
   "cell_type": "code",
   "execution_count": 172,
   "metadata": {},
   "outputs": [],
   "source": [
    "# takes every value in data_y to an array\n",
    "# ex: [0, 1, 1, 1, 0] => [[0], [1], [1], [1], [0]]\n",
    "data_y_train_correct = []\n",
    "data_y_test_correct = []\n",
    "\n",
    "for val in data_y_train:\n",
    "    val_arr = []\n",
    "    val_arr.append(val)\n",
    "    data_y_train_correct.append(val_arr)\n",
    "    \n",
    "for val in data_y_test:\n",
    "    val_arr = []\n",
    "    val_arr.append(val)\n",
    "    data_y_test_correct.append(val_arr)"
   ]
  },
  {
   "cell_type": "code",
   "execution_count": 173,
   "metadata": {},
   "outputs": [
    {
     "data": {
      "text/plain": [
       "116"
      ]
     },
     "execution_count": 173,
     "metadata": {},
     "output_type": "execute_result"
    }
   ],
   "source": [
    "len(data_y_test)"
   ]
  },
  {
   "cell_type": "code",
   "execution_count": 174,
   "metadata": {},
   "outputs": [],
   "source": [
    "data_xy_train = []\n",
    "for i in range(len(data_x_train)):\n",
    "    data_xy_train.append( (data_x_train[i], data_y_train_correct[i]) )\n",
    "    \n",
    "data_xy_test = []\n",
    "for i in range(len(data_x_test)):\n",
    "    data_xy_test.append( (data_x_test[i], data_y_test_correct[i]) )"
   ]
  },
  {
   "cell_type": "code",
   "execution_count": 175,
   "metadata": {},
   "outputs": [],
   "source": [
    "def getXvalues(data_xy):\n",
    "    x_values = []\n",
    "    for data in data_xy:\n",
    "        x_values.append(data[0])\n",
    "    return x_values\n",
    "\n",
    "def getYvalues(data_xy):\n",
    "    y_values = []\n",
    "    for data in data_xy:\n",
    "        y_values.append(data[1])\n",
    "    return y_values"
   ]
  },
  {
   "cell_type": "code",
   "execution_count": 176,
   "metadata": {},
   "outputs": [],
   "source": [
    "def logistic_fun(z):\n",
    "    return 1/(1.0 + np.exp(-z))"
   ]
  },
  {
   "cell_type": "code",
   "execution_count": 177,
   "metadata": {},
   "outputs": [
    {
     "data": {
      "text/plain": [
       "216"
      ]
     },
     "execution_count": 177,
     "metadata": {},
     "output_type": "execute_result"
    }
   ],
   "source": [
    "len(data_xy_train[1][0])"
   ]
  },
  {
   "cell_type": "code",
   "execution_count": 196,
   "metadata": {},
   "outputs": [
    {
     "name": "stdout",
     "output_type": "stream",
     "text": [
      "runtime:  76.26195102841302\n"
     ]
    }
   ],
   "source": [
    "features = len(data_xy_train[0][0])\n",
    "eps = 1e-12\n",
    "\n",
    "x = tf.placeholder(tf.float32, [None, features])\n",
    "y_ = tf.placeholder(tf.float32, [None, 1])\n",
    "W = tf.Variable(tf.zeros([features,1]))\n",
    "b = tf.Variable(tf.zeros([1]))\n",
    "y = tf.nn.sigmoid(tf.matmul(x,W)+b)\n",
    "\n",
    "loss1 = -(y_ * tf.log(y + eps) + (1 - y_) * tf.log(1 - y + eps))\n",
    "loss = tf.reduce_mean(loss1)\n",
    "update = tf.train.GradientDescentOptimizer(0.00002).minimize(loss)\n",
    "\n",
    "sess = tf.Session(config=config)\n",
    "sess.run(tf.global_variables_initializer())\n",
    "\n",
    "loss_history_train = []\n",
    "loss_history_test = []\n",
    "accuracy_history = []\n",
    "\n",
    "start_time = timeit.default_timer()\n",
    "\n",
    "for i in range(0,2000):\n",
    "    sess.run(update, feed_dict = {x:getXvalues(data_xy_train), y_:getYvalues(data_xy_train)}) #BGD\n",
    "    loss_history_train.append(np.mean(sess.run(loss1, feed_dict = {x:getXvalues(data_xy_train), y_:getYvalues(data_xy_train)})))\n",
    "    random.shuffle(data_xy_train)\n",
    "    \n",
    "    if i%10 == 0:\n",
    "        right = 0\n",
    "        for i in range(len(data_x_test)):\n",
    "            pred = logistic_fun(np.matmul(getXvalues(data_xy_train)[i],sess.run(W)) + sess.run(b))\n",
    "            loss_history_test.append(np.mean(sess.run(loss1, feed_dict = {x:getXvalues(data_xy_test), y_:getYvalues(data_xy_test)})))\n",
    "            if data_y_test[i] == 0 and pred < 0.5:\n",
    "                right += 1\n",
    "            if data_y_test[i] == 1 and pred > 0.5:\n",
    "                right += 1\n",
    "        accuracy_history.append(right/num_test)\n",
    "\n",
    "stop_time = timeit.default_timer()\n",
    "print('runtime: ', stop_time - start_time)  "
   ]
  },
  {
   "cell_type": "code",
   "execution_count": 187,
   "metadata": {},
   "outputs": [
    {
     "name": "stdout",
     "output_type": "stream",
     "text": [
      "pred: [0.43570289] = [0.] true: 0\n",
      "pred: [0.13419061] = [0.] true: 0\n",
      "pred: [0.88435766] = [1.] true: 1\n",
      "pred: [0.10930718] = [0.] true: 0\n",
      "pred: [0.99483797] = [1.] true: 1\n",
      "pred: [0.91518477] = [1.] true: 1\n",
      "pred: [0.01005958] = [0.] true: 0\n",
      "pred: [0.48924991] = [0.] true: 0\n",
      "pred: [0.98893344] = [1.] true: 1\n",
      "pred: [0.9994783] = [1.] true: 1\n",
      "pred: [0.20558368] = [0.] true: 0\n",
      "pred: [0.8504986] = [1.] true: 0\n",
      "pred: [0.78248131] = [1.] true: 1\n",
      "pred: [0.01163551] = [0.] true: 0\n",
      "pred: [0.05461612] = [0.] true: 0\n",
      "pred: [0.7911953] = [1.] true: 1\n",
      "pred: [0.90408508] = [1.] true: 1\n",
      "pred: [0.48648788] = [0.] true: 1\n",
      "pred: [0.98224194] = [1.] true: 1\n",
      "pred: [0.20961842] = [0.] true: 0\n",
      "pred: [0.01852377] = [0.] true: 0\n",
      "pred: [0.97520321] = [1.] true: 1\n",
      "pred: [0.15506491] = [0.] true: 0\n",
      "pred: [0.99106545] = [1.] true: 1\n",
      "pred: [0.01958283] = [0.] true: 0\n",
      "pred: [0.91206759] = [1.] true: 0\n",
      "pred: [0.63098466] = [1.] true: 1\n",
      "pred: [0.92249053] = [1.] true: 1\n",
      "pred: [0.06776862] = [0.] true: 0\n",
      "pred: [0.99712143] = [1.] true: 1\n",
      "pred: [0.35864026] = [0.] true: 0\n",
      "pred: [0.59983782] = [1.] true: 0\n",
      "pred: [0.84950836] = [1.] true: 0\n",
      "pred: [0.99957648] = [1.] true: 1\n",
      "pred: [0.65367452] = [1.] true: 1\n",
      "pred: [0.51813301] = [1.] true: 1\n",
      "pred: [0.99964665] = [1.] true: 1\n",
      "pred: [0.35306833] = [0.] true: 0\n",
      "pred: [0.23524025] = [0.] true: 0\n",
      "pred: [0.01264181] = [0.] true: 0\n",
      "pred: [0.6851691] = [1.] true: 1\n",
      "pred: [0.92348211] = [1.] true: 1\n",
      "pred: [0.41889218] = [0.] true: 1\n",
      "pred: [0.47440761] = [0.] true: 1\n",
      "pred: [0.04671979] = [0.] true: 0\n",
      "pred: [0.01542005] = [0.] true: 0\n",
      "pred: [0.03347295] = [0.] true: 0\n",
      "pred: [0.99539213] = [1.] true: 1\n",
      "pred: [0.74417682] = [1.] true: 1\n",
      "pred: [0.05218641] = [0.] true: 0\n",
      "pred: [0.77072712] = [1.] true: 1\n",
      "pred: [0.03447477] = [0.] true: 0\n",
      "pred: [0.09275249] = [0.] true: 0\n",
      "pred: [0.06918926] = [0.] true: 0\n",
      "pred: [0.06005767] = [0.] true: 0\n",
      "pred: [0.06906748] = [0.] true: 0\n",
      "pred: [0.63158858] = [1.] true: 1\n",
      "pred: [0.80496157] = [1.] true: 1\n",
      "pred: [0.30847701] = [0.] true: 0\n",
      "pred: [0.54456837] = [1.] true: 0\n",
      "pred: [0.88730453] = [1.] true: 1\n",
      "pred: [0.80299389] = [1.] true: 1\n",
      "pred: [0.46303567] = [0.] true: 1\n",
      "pred: [0.94270102] = [1.] true: 1\n",
      "pred: [0.9899866] = [1.] true: 1\n",
      "pred: [0.39362415] = [0.] true: 0\n",
      "pred: [0.02527615] = [0.] true: 0\n",
      "pred: [0.17700639] = [0.] true: 1\n",
      "pred: [0.02346849] = [0.] true: 0\n",
      "pred: [0.94296171] = [1.] true: 1\n",
      "pred: [0.07471644] = [0.] true: 0\n",
      "pred: [0.4444615] = [0.] true: 1\n",
      "pred: [0.21814254] = [0.] true: 0\n",
      "pred: [0.95867117] = [1.] true: 1\n",
      "pred: [0.69918126] = [1.] true: 1\n",
      "pred: [0.16748834] = [0.] true: 0\n",
      "pred: [0.05180017] = [0.] true: 0\n",
      "pred: [0.8314133] = [1.] true: 1\n",
      "pred: [0.0463218] = [0.] true: 0\n",
      "pred: [0.06730906] = [0.] true: 0\n",
      "pred: [0.06483104] = [0.] true: 0\n",
      "pred: [0.76551048] = [1.] true: 1\n",
      "pred: [0.9213648] = [1.] true: 1\n",
      "pred: [0.82451028] = [1.] true: 1\n",
      "pred: [0.01592306] = [0.] true: 0\n",
      "pred: [0.99858012] = [1.] true: 1\n",
      "pred: [0.63751084] = [1.] true: 1\n",
      "pred: [0.79018277] = [1.] true: 1\n",
      "pred: [0.94257989] = [1.] true: 1\n",
      "pred: [0.47442789] = [0.] true: 0\n",
      "pred: [0.63670295] = [1.] true: 0\n",
      "pred: [0.04285625] = [0.] true: 0\n",
      "pred: [0.78293016] = [1.] true: 1\n",
      "pred: [0.40247278] = [0.] true: 0\n",
      "pred: [0.27642656] = [0.] true: 0\n",
      "pred: [0.8785244] = [1.] true: 1\n",
      "pred: [0.60561757] = [1.] true: 1\n",
      "pred: [0.41829612] = [0.] true: 1\n",
      "pred: [0.14242001] = [0.] true: 0\n",
      "pred: [0.97750634] = [1.] true: 1\n",
      "pred: [0.83269112] = [1.] true: 1\n",
      "pred: [0.00617987] = [0.] true: 0\n",
      "pred: [0.80703895] = [1.] true: 1\n",
      "pred: [0.94897186] = [1.] true: 1\n",
      "pred: [0.04668267] = [0.] true: 0\n",
      "pred: [0.03828593] = [0.] true: 0\n",
      "pred: [0.58425924] = [1.] true: 1\n",
      "pred: [0.46384432] = [0.] true: 0\n",
      "pred: [0.81654653] = [1.] true: 1\n",
      "pred: [0.76120093] = [1.] true: 1\n",
      "pred: [0.9412603] = [1.] true: 1\n",
      "pred: [0.0547935] = [0.] true: 0\n",
      "pred: [0.907037] = [1.] true: 1\n",
      "pred: [0.95396633] = [1.] true: 1\n",
      "pred: [0.69966985] = [1.] true: 1\n",
      "pred: [0.89839592] = [1.] true: 0\n",
      "tp: 54 ,tn 48 ,fp: 7 ,fn: 7\n"
     ]
    }
   ],
   "source": [
    "# data_x_train =          [arr1, arr2, arr3]       # data_x_test = [arr4, arr5]\n",
    "# shuffle(data_x_train) = [arr2, arr3, arr1]\n",
    "# data_y_train = [0, 1, 1] # data_y_test = [0, 1]\n",
    "\n",
    "tp, tn, fp, fn = 0,0,0,0\n",
    "\n",
    "for i in range(len(data_x_test)):\n",
    "    pred = logistic_fun(np.matmul(getXvalues(data_xy_test)[i],sess.run(W)) + sess.run(b))\n",
    "    if data_y_test[i] == 0 and pred < 0.5:\n",
    "        tn += 1\n",
    "    elif data_y_test[i] == 0 and pred > 0.5:\n",
    "        fn += 1\n",
    "    if data_y_test[i] == 1 and pred > 0.5:\n",
    "        tp += 1\n",
    "    elif data_y_test[i] == 1 and pred < 0.5:\n",
    "        fp += 1\n",
    "    print(\"pred:\",pred,\"=\",np.round(pred),\"true:\",data_y_test[i])\n",
    "print(\"tp:\",tp,\",tn\",tn,\",fp:\",fp,\",fn:\",fn)"
   ]
  },
  {
   "cell_type": "code",
   "execution_count": 192,
   "metadata": {},
   "outputs": [
    {
     "name": "stdout",
     "output_type": "stream",
     "text": [
      "accuracy: 0.8793103448275862\n",
      "recall: 0.8852459016393442\n",
      "precision: 0.8852459016393442\n"
     ]
    }
   ],
   "source": [
    "#with happy/sad files from first 4 actors we got 6 out of 20 correct, 30%\n",
    "#with happy/sad files from first 8 actors we got 15 out of 39 correct, 38.46153846153847%\n",
    "print(\"accuracy:\",(tp+tn)/(tp+tn+fp+fn))\n",
    "print(\"recall:\",(tp)/(tp+fn))\n",
    "print(\"precision:\",(tp)/(tp+fp))"
   ]
  },
  {
   "cell_type": "code",
   "execution_count": 193,
   "metadata": {},
   "outputs": [
    {
     "data": {
      "text/plain": [
       "[<matplotlib.lines.Line2D at 0x282636d8>]"
      ]
     },
     "execution_count": 193,
     "metadata": {},
     "output_type": "execute_result"
    },
    {
     "data": {
      "image/png": "[encoded data removed]",
      "text/plain": [
       "<Figure size 432x288 with 1 Axes>"
      ]
     },
     "metadata": {
      "needs_background": "light"
     },
     "output_type": "display_data"
    }
   ],
   "source": [
    "plt.plot(loss_history_train)"
   ]
  },
  {
   "cell_type": "code",
   "execution_count": 194,
   "metadata": {},
   "outputs": [
    {
     "data": {
      "text/plain": [
       "[<matplotlib.lines.Line2D at 0x282c7d30>]"
      ]
     },
     "execution_count": 194,
     "metadata": {},
     "output_type": "execute_result"
    },
    {
     "data": {
      "image/png": "[encoded data removed]",
      "text/plain": [
       "<Figure size 432x288 with 1 Axes>"
      ]
     },
     "metadata": {
      "needs_background": "light"
     },
     "output_type": "display_data"
    }
   ],
   "source": [
    "plt.plot(loss_history_test)"
   ]
  },
  {
   "cell_type": "code",
   "execution_count": 195,
   "metadata": {},
   "outputs": [
    {
     "data": {
      "text/plain": [
       "[<matplotlib.lines.Line2D at 0x2832d828>]"
      ]
     },
     "execution_count": 195,
     "metadata": {},
     "output_type": "execute_result"
    },
    {
     "data": {
      "image/png": "[encoded data removed]",
      "text/plain": [
       "<Figure size 432x288 with 1 Axes>"
      ]
     },
     "metadata": {
      "needs_background": "light"
     },
     "output_type": "display_data"
    }
   ],
   "source": [
    "plt.plot(accuracy_history)"
   ]
  },
  {
   "cell_type": "code",
   "execution_count": 211,
   "metadata": {},
   "outputs": [],
   "source": [
    "shlomi = []\n",
    "\n",
    "data, sampling_rate = librosa.load(\"shlomi4.wav\", sr=22050*2, res_type='kaiser_fast', duration=2.5, offset=0.5)\n",
    "sampling_rate = np.array(sampling_rate)\n",
    "mfccs = np.mean(librosa.feature.mfcc(y=data, sr=sampling_rate, n_mfcc=13), axis=0)\n",
    "shlomi.append(mfccs)"
   ]
  },
  {
   "cell_type": "code",
   "execution_count": 204,
   "metadata": {},
   "outputs": [],
   "source": [
    "tali = []\n",
    "\n",
    "data, sampling_rate = librosa.load(\"tali.wav\", sr=22050*2, res_type='kaiser_fast', duration=2.5, offset=0.5)\n",
    "sampling_rate = np.array(sampling_rate)\n",
    "mfccs = np.mean(librosa.feature.mfcc(y=data, sr=sampling_rate, n_mfcc=13), axis=0)\n",
    "tali.append(mfccs)"
   ]
  },
  {
   "cell_type": "code",
   "execution_count": 212,
   "metadata": {},
   "outputs": [
    {
     "data": {
      "text/plain": [
       "array([[0.62838851]])"
      ]
     },
     "execution_count": 212,
     "metadata": {},
     "output_type": "execute_result"
    }
   ],
   "source": [
    "pred = logistic_fun(np.matmul(shlomi,sess.run(W)) + sess.run(b))\n",
    "pred"
   ]
  },
  {
   "cell_type": "code",
   "execution_count": null,
   "metadata": {},
   "outputs": [],
   "source": []
  },
  {
   "cell_type": "code",
   "execution_count": null,
   "metadata": {},
   "outputs": [],
   "source": []
  },
  {
   "cell_type": "code",
   "execution_count": null,
   "metadata": {},
   "outputs": [],
   "source": []
  },
  {
   "cell_type": "code",
   "execution_count": null,
   "metadata": {},
   "outputs": [],
   "source": []
  },
  {
   "cell_type": "code",
   "execution_count": null,
   "metadata": {},
   "outputs": [],
   "source": []
  },
  {
   "cell_type": "code",
   "execution_count": null,
   "metadata": {},
   "outputs": [],
   "source": []
  }
 ],
 "metadata": {
  "kernelspec": {
   "display_name": "Python 3",
   "language": "python",
   "name": "python3"
  },
  "language_info": {
   "codemirror_mode": {
    "name": "ipython",
    "version": 3
   },
   "file_extension": ".py",
   "mimetype": "text/x-python",
   "name": "python",
   "nbconvert_exporter": "python",
   "pygments_lexer": "ipython3",
   "version": "3.6.5"
  }
 },
 "nbformat": 4,
 "nbformat_minor": 2
}
