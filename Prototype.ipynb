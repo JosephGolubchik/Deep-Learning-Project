{
 "cells": [
  {
   "cell_type": "code",
   "execution_count": 1,
   "metadata": {},
   "outputs": [],
   "source": [
    "import tensorflow as tf\n",
    "import librosa.display\n",
    "import matplotlib.pyplot as plt\n",
    "import numpy as np\n",
    "import os\n",
    "import random\n",
    "import timeit"
   ]
  },
  {
   "cell_type": "code",
   "execution_count": 2,
   "metadata": {},
   "outputs": [],
   "source": [
    "filenames = []\n",
    "for file in os.listdir('audio'):\n",
    "    filenames.append(file)\n",
    "# filenames[0:2]"
   ]
  },
  {
   "cell_type": "code",
   "execution_count": 19,
   "metadata": {},
   "outputs": [],
   "source": [
    "random.shuffle(filenames)"
   ]
  },
  {
   "cell_type": "code",
   "execution_count": 20,
   "metadata": {},
   "outputs": [],
   "source": [
    "max, min = 76117, 53310\n",
    "start, end = 21000, 53310\n",
    "wave_length = end-start\n",
    "num_train = int(len(filenames)*0.7)\n",
    "num_test = len(filenames) - num_train"
   ]
  },
  {
   "cell_type": "code",
   "execution_count": 35,
   "metadata": {},
   "outputs": [
    {
     "name": "stdout",
     "output_type": "stream",
     "text": [
      "runtime:  12.478960180991976\n"
     ]
    }
   ],
   "source": [
    "data_x_train = []\n",
    "data_x_test = []\n",
    "\n",
    "start_time = timeit.default_timer()\n",
    "for filename in filenames[:num_train]:\n",
    "    data, sampling_rate = librosa.load(\"audio/\" + filename, res_type='kaiser_fast')\n",
    "    data_x_train.append(data[start:end])\n",
    "    \n",
    "for filename in filenames[num_train:]:\n",
    "    data, sampling_rate = librosa.load(\"audio/\" + filename, res_type='kaiser_fast')\n",
    "    data_x_test.append(data[start:end])\n",
    "    \n",
    "stop_time = timeit.default_timer()\n",
    "print('runtime: ', stop_time - start_time)  "
   ]
  },
  {
   "cell_type": "code",
   "execution_count": 22,
   "metadata": {},
   "outputs": [
    {
     "name": "stdout",
     "output_type": "stream",
     "text": [
      "max = 76117 ,min = 53310 ,length = 32310 ,len(data_x) = 128\n"
     ]
    }
   ],
   "source": [
    "# max = 0\n",
    "# min = 57117\n",
    "# for i in range(len(data_x)):\n",
    "#     if len(data_x[i]) > max:\n",
    "#         max = len(data_x[i])\n",
    "#     if len(data_x[i]) < min:\n",
    "#         min = len(data_x[i])\n",
    "print(\"max =\", max, \",min =\", min, \",length =\",wave_length, \",len(data_x) =\",len(data_x))"
   ]
  },
  {
   "cell_type": "code",
   "execution_count": 41,
   "metadata": {},
   "outputs": [],
   "source": [
    "data_y_train = []\n",
    "data_y_test = []\n",
    "\n",
    "for filename in filenames[:num_train]:\n",
    "    if filename[7] == '3':\n",
    "        data_y_train.append(1)\n",
    "    elif filename[7] == '4':\n",
    "        data_y_train.append(0)\n",
    "        \n",
    "for filename in filenames[num_train:]:\n",
    "    if filename[7] == '3':\n",
    "        data_y_test.append(1)\n",
    "    elif filename[7] == '4':\n",
    "        data_y_test.append(0)   "
   ]
  },
  {
   "cell_type": "code",
   "execution_count": 49,
   "metadata": {},
   "outputs": [],
   "source": [
    "# takes every value in data_y to an array\n",
    "# ex: [0, 1, 1, 1, 0] => [[0], [1], [1], [1], [0]]\n",
    "data_y_train_correct = []\n",
    "data_y_test_correct = []\n",
    "\n",
    "for val in data_y_train:\n",
    "    val_arr = []\n",
    "    val_arr.append(val)\n",
    "    data_y_train_correct.append(val_arr)\n",
    "    \n",
    "for val in data_y_test:\n",
    "    val_arr = []\n",
    "    val_arr.append(val)\n",
    "    data_y_test_correct.append(val_arr)"
   ]
  },
  {
   "cell_type": "code",
   "execution_count": 58,
   "metadata": {},
   "outputs": [],
   "source": [
    "data_xy_train = []\n",
    "for i in range(len(data_x_train)):\n",
    "    data_xy_train.append( (data_x_train[i], data_y_train_correct[i]) )"
   ]
  },
  {
   "cell_type": "code",
   "execution_count": 89,
   "metadata": {},
   "outputs": [],
   "source": [
    "def getXvalues(data_xy):\n",
    "    x_values = []\n",
    "    for data in data_xy:\n",
    "        x_values.append(data[0])\n",
    "    return x_values\n",
    "\n",
    "def getYvalues(data_xy):\n",
    "    y_values = []\n",
    "    for data in data_xy:\n",
    "        y_values.append(data[1])\n",
    "    return y_values"
   ]
  },
  {
   "cell_type": "code",
   "execution_count": 52,
   "metadata": {},
   "outputs": [],
   "source": [
    "def logistic_fun(z):\n",
    "    return 1/(1.0 + np.exp(-z))"
   ]
  },
  {
   "cell_type": "code",
   "execution_count": 96,
   "metadata": {},
   "outputs": [
    {
     "data": {
      "text/plain": [
       "[(array([ 1.0684992e-06,  3.7056247e-06,  1.1272429e-05, ...,\n",
       "         -1.0291030e-02, -7.4613965e-03,  9.4495277e-04], dtype=float32), [1]),\n",
       " (array([ 5.9187016e-07, -1.5703230e-07, -9.2744628e-08, ...,\n",
       "          4.8424816e-03,  4.8939311e-03,  4.7554560e-03], dtype=float32), [0]),\n",
       " (array([ 5.8532267e-05,  8.2692161e-05,  5.9512797e-05, ...,\n",
       "         -6.4005964e-03, -9.2632165e-03, -9.2809070e-03], dtype=float32), [1]),\n",
       " (array([ 1.2292220e-04,  7.7097095e-05, -8.1462080e-05, ...,\n",
       "         -2.4215721e-02, -3.2661915e-02, -4.9243528e-02], dtype=float32), [1]),\n",
       " (array([ 2.9210269e-05, -3.0221156e-07, -3.7230816e-06, ...,\n",
       "         -2.2239949e-05, -3.5313555e-05, -9.9485123e-06], dtype=float32), [0]),\n",
       " (array([-1.20815705e-04, -1.15397888e-04, -6.91200739e-06, ...,\n",
       "         -2.01451063e-01, -2.24132150e-01, -1.98831007e-01], dtype=float32),\n",
       "  [0]),\n",
       " (array([-0.00015954, -0.00011426, -0.0001213 , ...,  0.00730817,\n",
       "          0.0221633 ,  0.02262837], dtype=float32), [1]),\n",
       " (array([ 1.5061666e-05, -4.8808197e-06,  1.9422341e-06, ...,\n",
       "          9.5391618e-03,  9.1075944e-03,  8.6491732e-03], dtype=float32), [1]),\n",
       " (array([-0.00144067, -0.00151454, -0.00130473, ...,  0.00458993,\n",
       "          0.00852005,  0.00823306], dtype=float32), [0]),\n",
       " (array([-0.00083595, -0.00084303, -0.00087565, ...,  0.12983143,\n",
       "          0.14243726,  0.12983781], dtype=float32), [1]),\n",
       " (array([-1.4970804e-05,  1.1632030e-05, -7.0821138e-06, ...,\n",
       "          2.3143720e-02,  2.5800770e-02,  2.6819620e-02], dtype=float32), [1]),\n",
       " (array([1.5314465e-05, 1.9376530e-05, 2.8955108e-05, ..., 5.3035640e-03,\n",
       "         5.4695900e-03, 5.6842463e-03], dtype=float32), [0]),\n",
       " (array([-2.0207626e-06,  2.8329000e-06, -3.3229403e-06, ...,\n",
       "          2.4372744e-03,  3.1445043e-03,  3.6447484e-03], dtype=float32), [0]),\n",
       " (array([-1.1445043e-05, -2.9706551e-05, -1.4149900e-05, ...,\n",
       "          9.1562193e-05,  7.5395784e-04,  1.5215626e-03], dtype=float32), [0]),\n",
       " (array([ 0.0002792 ,  0.00035797,  0.00017477, ..., -0.00183606,\n",
       "         -0.0022066 , -0.00215097], dtype=float32), [1]),\n",
       " (array([ 2.0229691e-06, -9.6386366e-08, -1.2964681e-06, ...,\n",
       "          1.0237802e-05,  5.0010717e-06,  2.1338790e-05], dtype=float32), [0]),\n",
       " (array([ 7.1292707e-05,  6.2392588e-05, -1.2964624e-04, ...,\n",
       "          2.9823028e-03,  3.0859837e-03,  3.2056735e-03], dtype=float32), [1]),\n",
       " (array([ 0.00016648,  0.00014982,  0.00014847, ..., -0.00018326,\n",
       "         -0.00015046, -0.00011587], dtype=float32), [0]),\n",
       " (array([0.0000000e+00, 0.0000000e+00, 2.1811883e-09, ..., 2.0538378e-03,\n",
       "         1.3996497e-03, 6.0819968e-04], dtype=float32), [0]),\n",
       " (array([ 4.2004423e-05,  2.2531603e-05,  4.1716085e-06, ...,\n",
       "         -3.2795684e-05, -5.0666113e-05, -3.1762880e-05], dtype=float32), [0]),\n",
       " (array([-2.2248828e-07, -1.9598565e-07,  3.3758877e-07, ...,\n",
       "          2.9884034e-03,  2.9387425e-03,  2.9721598e-03], dtype=float32), [0]),\n",
       " (array([ 4.6144746e-06, -1.2416827e-05, -5.2164683e-07, ...,\n",
       "          5.4774689e-04,  3.2364414e-04,  2.2151088e-04], dtype=float32), [0]),\n",
       " (array([ 1.4184426e-05,  4.6824141e-05,  6.0159808e-05, ...,\n",
       "         -1.5378483e-02, -1.6144905e-02, -1.5839497e-02], dtype=float32), [1]),\n",
       " (array([-3.9216768e-05, -1.4220217e-05, -8.6927148e-06, ...,\n",
       "         -9.3661743e-04,  6.6566565e-03,  9.8499330e-03], dtype=float32), [1]),\n",
       " (array([-0.0003895 , -0.00071343, -0.0008887 , ...,  0.0310539 ,\n",
       "          0.02841567,  0.02199557], dtype=float32), [1]),\n",
       " (array([2.0230651e-05, 6.5500749e-06, 3.4904024e-05, ..., 3.6114682e-02,\n",
       "         3.8206205e-02, 3.6318000e-02], dtype=float32), [1]),\n",
       " (array([ 4.6539671e-07, -2.0402524e-07, -4.7396432e-07, ...,\n",
       "          2.9074983e-03,  2.3049470e-03,  1.6224084e-03], dtype=float32), [0]),\n",
       " (array([ 0.        ,  0.        ,  0.        , ..., -0.00068878,\n",
       "         -0.00216188, -0.00367365], dtype=float32), [0]),\n",
       " (array([ 1.1656208e-05,  3.1213383e-06, -2.0488147e-05, ...,\n",
       "          4.2062387e-04,  4.7109605e-04,  3.8832193e-04], dtype=float32), [0]),\n",
       " (array([-3.5213056e-05, -6.4711244e-06, -7.5405674e-06, ...,\n",
       "         -5.3940089e-03, -5.9132655e-03, -6.4123757e-03], dtype=float32), [1]),\n",
       " (array([ 3.7967050e-07, -7.3580770e-07,  1.1010432e-06, ...,\n",
       "         -2.6140062e-04, -2.1023783e-04, -5.8563768e-05], dtype=float32), [0]),\n",
       " (array([-1.4317566e-06,  9.9079637e-07, -6.5349047e-07, ...,\n",
       "         -1.0218200e-02, -1.3055038e-02, -1.8084252e-02], dtype=float32), [1]),\n",
       " (array([-3.3200387e-05, -6.2004314e-05, -7.2528157e-05, ...,\n",
       "          1.4757913e-02,  1.3661134e-02,  1.2571053e-02], dtype=float32), [0]),\n",
       " (array([-1.5623098e-04, -1.2662113e-04, -8.6142296e-05, ...,\n",
       "         -2.4623941e-03, -2.5182972e-03, -2.6575678e-03], dtype=float32), [1]),\n",
       " (array([-0.00010246, -0.00013444, -0.00014488, ..., -0.0020676 ,\n",
       "         -0.00223166, -0.0022769 ], dtype=float32), [1]),\n",
       " (array([-1.4342046e-05,  2.6026602e-05,  2.2801578e-06, ...,\n",
       "         -8.8610882e-03, -8.0721853e-03, -7.0784083e-03], dtype=float32), [1]),\n",
       " (array([ 1.00776351e-05,  1.19534425e-05,  4.27091572e-06, ...,\n",
       "         -3.98923730e-04, -1.94936132e-04, -6.90136396e-04], dtype=float32),\n",
       "  [0]),\n",
       " (array([-0.0002578 , -0.0002175 , -0.00016627, ...,  0.01387245,\n",
       "          0.02065924,  0.02587187], dtype=float32), [1]),\n",
       " (array([ 0.        ,  0.        ,  0.        , ..., -0.0072389 ,\n",
       "         -0.00406548, -0.0014116 ], dtype=float32), [1]),\n",
       " (array([-0.00013015, -0.0001524 , -0.00018097, ..., -0.00538398,\n",
       "         -0.00491712, -0.00441485], dtype=float32), [1]),\n",
       " (array([-4.9214595e-08, -5.6590960e-07,  9.8517853e-07, ...,\n",
       "          2.7621747e-04,  4.3112115e-05, -6.8341364e-04], dtype=float32), [0]),\n",
       " (array([-3.6366509e-07,  1.4616353e-07,  9.5853977e-08, ...,\n",
       "         -3.8993645e-03, -4.6394151e-03, -5.0936355e-03], dtype=float32), [0]),\n",
       " (array([-4.2125029e-07,  2.3299852e-07, -8.9149680e-08, ...,\n",
       "          3.2927794e-05,  5.7839716e-05,  7.9649231e-05], dtype=float32), [0]),\n",
       " (array([-8.6762407e-07,  2.3810660e-05,  7.9550118e-06, ...,\n",
       "         -5.1681474e-03, -5.5385712e-03, -5.6580971e-03], dtype=float32), [0]),\n",
       " (array([ 5.5101577e-07, -3.4141760e-07,  6.0040452e-07, ...,\n",
       "          5.4969866e-04,  9.7122340e-04,  1.4411187e-03], dtype=float32), [0]),\n",
       " (array([ 5.9557929e-06,  1.2591029e-05,  3.0339972e-05, ...,\n",
       "         -2.9068475e-03, -2.8647794e-03, -2.8350828e-03], dtype=float32), [0]),\n",
       " (array([1.9437854e-05, 2.3513461e-05, 1.4391627e-05, ..., 3.3712119e-04,\n",
       "         3.1819852e-04, 3.0699332e-04], dtype=float32), [0]),\n",
       " (array([-9.6337862e-06, -6.6305515e-06, -7.4794743e-06, ...,\n",
       "         -2.3801815e-02, -2.4177786e-02, -2.4059162e-02], dtype=float32), [0]),\n",
       " (array([0.00103533, 0.00103832, 0.00100986, ..., 0.03003302, 0.02603519,\n",
       "         0.02544419], dtype=float32), [0]),\n",
       " (array([1.1455742e-04, 8.3901767e-05, 1.2485670e-04, ..., 3.0281827e-02,\n",
       "         2.9898999e-02, 2.8439432e-02], dtype=float32), [0]),\n",
       " (array([-3.5213056e-05, -6.4711244e-06, -7.5405674e-06, ...,\n",
       "         -5.3940089e-03, -5.9132655e-03, -6.4123757e-03], dtype=float32), [1]),\n",
       " (array([-7.4127005e-05, -5.8299571e-05, -5.5879147e-05, ...,\n",
       "          1.7196372e-03,  1.1676264e-03,  1.0066143e-03], dtype=float32), [1]),\n",
       " (array([ 0.00448382,  0.0044522 ,  0.0042216 , ..., -0.06376255,\n",
       "         -0.02191827,  0.02599077], dtype=float32), [1]),\n",
       " (array([-2.5218660e-05, -5.5951037e-05, -7.1456394e-05, ...,\n",
       "          1.8011100e-03,  1.4249114e-03,  6.7261292e-04], dtype=float32), [0]),\n",
       " (array([-3.8133734e-05, -7.2529787e-05, -1.5921550e-04, ...,\n",
       "          1.4439785e-02,  9.9733407e-03,  7.9266857e-03], dtype=float32), [1]),\n",
       " (array([ 3.3067392e-06, -1.7291020e-05, -1.5801987e-05, ...,\n",
       "         -4.7409730e-03, -5.2965642e-03, -5.7902904e-03], dtype=float32), [0]),\n",
       " (array([-5.3445497e-06, -1.4994870e-05, -1.1063252e-05, ...,\n",
       "          2.5594491e-03,  3.1563297e-03,  3.7431770e-03], dtype=float32), [0]),\n",
       " (array([-6.5485933e-06, -3.7008602e-05, -6.8518362e-05, ...,\n",
       "         -7.5816670e-03, -7.0274607e-03, -5.9077521e-03], dtype=float32), [1]),\n",
       " (array([ 1.8238810e-05,  2.4068586e-05,  9.9978221e-05, ...,\n",
       "         -1.2300917e-03, -1.0628771e-03, -8.0147985e-04], dtype=float32), [1]),\n",
       " (array([ 2.4166663e-06, -8.3997429e-07, -1.0905723e-05, ...,\n",
       "          5.9180349e-02,  4.9042460e-02,  4.6339419e-02], dtype=float32), [1]),\n",
       " (array([-0.00015165, -0.00015923, -0.00011758, ...,  0.02331054,\n",
       "          0.01848776,  0.01442465], dtype=float32), [1]),\n",
       " (array([-7.9022684e-05, -4.8473667e-05, -8.7478475e-05, ...,\n",
       "         -1.8886715e-01, -1.3426568e-01, -3.0052302e-02], dtype=float32), [1]),\n",
       " (array([-7.3310716e-06, -7.1706425e-05, -1.4397978e-04, ...,\n",
       "          1.1204809e-03,  3.8823939e-04, -1.8043018e-05], dtype=float32), [0]),\n",
       " (array([-3.7670479e-06, -1.3727952e-05,  4.9857308e-06, ...,\n",
       "         -1.6284145e-02, -1.6516954e-02, -1.3690305e-02], dtype=float32), [1]),\n",
       " (array([0.00031773, 0.00028971, 0.00032266, ..., 0.00136437, 0.00189989,\n",
       "         0.00238635], dtype=float32), [1]),\n",
       " (array([-1.1248783e-06, -2.5326833e-07,  3.8099577e-07, ...,\n",
       "          5.4161035e-04,  8.3601539e-04,  9.5586054e-04], dtype=float32), [1]),\n",
       " (array([-2.2423858e-06,  1.8111609e-06,  1.1356929e-05, ...,\n",
       "         -2.1098591e-02, -1.2947406e-02, -1.5374342e-02], dtype=float32), [0]),\n",
       " (array([ 1.0505532e-06, -1.2251720e-06,  9.9434465e-07, ...,\n",
       "         -1.6755136e-03, -1.6341970e-03, -1.5195389e-03], dtype=float32), [1]),\n",
       " (array([-8.8482057e-06, -3.6463585e-05, -5.1185329e-05, ...,\n",
       "         -1.3382764e-03, -2.0021705e-03, -2.5778096e-03], dtype=float32), [0]),\n",
       " (array([-1.52564335e-05,  2.16798726e-05,  3.08972267e-05, ...,\n",
       "         -3.09092663e-02, -3.63211036e-02, -2.87699811e-02], dtype=float32),\n",
       "  [0]),\n",
       " (array([-2.7155402e-05, -1.4044232e-04, -2.2697127e-04, ...,\n",
       "         -7.0603443e-03, -9.8137697e-03, -9.7134542e-03], dtype=float32), [1]),\n",
       " (array([-5.0688170e-05, -1.1228589e-05, -8.2402921e-06, ...,\n",
       "          1.0683340e-03,  9.4913662e-04,  9.2859706e-04], dtype=float32), [0]),\n",
       " (array([4.4315715e-05, 1.1998605e-04, 4.1444593e-05, ..., 4.8776821e-04,\n",
       "         1.8739915e-02, 8.6283935e-03], dtype=float32), [0]),\n",
       " (array([0.00052977, 0.00042675, 0.00060906, ..., 0.03476366, 0.0179646 ,\n",
       "         0.00640602], dtype=float32), [1]),\n",
       " (array([ 2.7662668e-06,  9.2382215e-06, -7.5449007e-06, ...,\n",
       "         -9.0686716e-03, -1.0619369e-02, -1.2953599e-02], dtype=float32), [1]),\n",
       " (array([0.00018584, 0.00013872, 0.0001055 , ..., 0.00419741, 0.00394874,\n",
       "         0.00388571], dtype=float32), [0]),\n",
       " (array([-2.9830596e-06, -5.9397559e-07,  3.2763598e-06, ...,\n",
       "         -5.9206202e-03, -7.0807785e-03, -7.9858089e-03], dtype=float32), [0]),\n",
       " (array([5.6592507e-05, 5.8827682e-05, 9.3393006e-05, ..., 9.1909226e-03,\n",
       "         6.9524120e-03, 5.2910484e-03], dtype=float32), [0]),\n",
       " (array([ 3.8277331e-06, -1.1280096e-06, -1.0974635e-05, ...,\n",
       "          8.8282358e-03,  8.8086054e-03,  8.3677545e-03], dtype=float32), [1]),\n",
       " (array([-7.4566611e-05, -6.2196326e-05, -7.1746203e-05, ...,\n",
       "          5.6289759e-05,  6.6772125e-05,  3.3474775e-05], dtype=float32), [1]),\n",
       " (array([ 8.2574275e-05,  2.3048040e-05, -1.5148493e-04, ...,\n",
       "         -2.4389911e-03, -3.3218847e-04, -4.5804388e-04], dtype=float32), [1]),\n",
       " (array([-3.1421678e-06,  2.0508612e-06, -1.5177235e-06, ...,\n",
       "          4.6692756e-05,  5.1570300e-05,  4.7430378e-05], dtype=float32), [0]),\n",
       " (array([-1.2627349e-06, -1.7528109e-05, -5.8612215e-05, ...,\n",
       "         -8.9194604e-05, -3.5783977e-04, -5.9621205e-04], dtype=float32), [0]),\n",
       " (array([-1.0214153e-05, -9.0047342e-06, -2.3370247e-05, ...,\n",
       "          4.5453577e-04, -1.5025886e-04, -5.8083679e-04], dtype=float32), [1]),\n",
       " (array([ 2.9155741e-05,  4.0355892e-05,  6.8032059e-05, ...,\n",
       "         -2.4539772e-03, -2.2639041e-03, -1.7413038e-03], dtype=float32), [0]),\n",
       " (array([-3.3635735e-07,  4.8161581e-08,  6.9572906e-07, ...,\n",
       "         -7.9967547e-03, -1.3611683e-02, -1.5798528e-02], dtype=float32), [1]),\n",
       " (array([-8.8415050e-05, -4.7865960e-05, -1.6465768e-06, ...,\n",
       "          1.1273356e-03,  4.2167964e-04, -2.0434240e-04], dtype=float32), [0]),\n",
       " (array([ 3.1372907e-05,  8.0003105e-05,  5.8067719e-05, ...,\n",
       "         -5.1257794e-04, -5.1083992e-04, -5.3036842e-04], dtype=float32), [1]),\n",
       " (array([-3.3135530e-05, -8.3378967e-05, -9.9552642e-05, ...,\n",
       "         -1.9852053e-02, -1.8999936e-02, -1.9111177e-02], dtype=float32), [1])]"
      ]
     },
     "execution_count": 96,
     "metadata": {},
     "output_type": "execute_result"
    }
   ],
   "source": [
    "data_xy_train"
   ]
  },
  {
   "cell_type": "code",
   "execution_count": 93,
   "metadata": {},
   "outputs": [],
   "source": [
    "features = wave_length\n",
    "eps = 1e-12\n",
    "\n",
    "x = tf.placeholder(tf.float32, [None, features])\n",
    "\n",
    "y_ = tf.placeholder(tf.float32, [None, 1])\n",
    "\n",
    "W = tf.Variable(tf.zeros([features,1]))\n",
    "\n",
    "b = tf.Variable(tf.zeros([1]))\n",
    "\n",
    "y = 1 / (1.0 + tf.exp(-(tf.matmul(x,W) + b)))\n",
    "\n",
    "loss1 = -(y_ * tf.log(y + eps) + (1 - y_) * tf.log(1 - y + eps))\n",
    "\n",
    "loss = tf.reduce_mean(loss1)\n",
    "\n",
    "update = tf.train.GradientDescentOptimizer(0.00001).minimize(loss)\n",
    "\n",
    "sess = tf.Session()\n",
    "\n",
    "sess.run(tf.global_variables_initializer())\n",
    "\n",
    "for i in range(0,100):\n",
    "    sess.run(update, feed_dict = {x:getXvalues(data_xy_train), y_:getYvalues(data_xy_train)}) #BGD\n",
    "    random.shuffle(data_xy_train)\n",
    "    "
   ]
  },
  {
   "cell_type": "code",
   "execution_count": 29,
   "metadata": {},
   "outputs": [],
   "source": [
    "# # guessing random number from 0 to 1, ~50% success\n",
    "# # our model should be at least as good as this!!!!\n",
    "# right = 0\n",
    "# last_x = len(data_x)\n",
    "# for i in range(num_train, last_x):\n",
    "#     pred = random.randint(0,1)\n",
    "#     if data_y[i] == 0 and pred < 0.5:\n",
    "#         right += 1\n",
    "#     if data_y[i] == 1 and pred > 0.5:\n",
    "#         right += 1\n",
    "#     print(\"pred:\",pred,\"true:\",data_y[i],\"right:\",right)"
   ]
  },
  {
   "cell_type": "code",
   "execution_count": 94,
   "metadata": {},
   "outputs": [
    {
     "name": "stdout",
     "output_type": "stream",
     "text": [
      "pred: [0.4999981] true: 0 right: 1\n",
      "pred: [0.49999726] true: 0 right: 2\n",
      "pred: [0.49999917] true: 0 right: 3\n",
      "pred: [0.49999505] true: 0 right: 4\n",
      "pred: [0.4999801] true: 1 right: 4\n",
      "pred: [0.4999963] true: 0 right: 5\n",
      "pred: [0.49999887] true: 1 right: 5\n",
      "pred: [0.49999642] true: 1 right: 5\n",
      "pred: [0.4999991] true: 1 right: 5\n",
      "pred: [0.50000185] true: 1 right: 6\n",
      "pred: [0.49999988] true: 1 right: 6\n",
      "pred: [0.4999889] true: 0 right: 7\n",
      "pred: [0.49999833] true: 0 right: 8\n",
      "pred: [0.4999975] true: 0 right: 9\n",
      "pred: [0.49999893] true: 1 right: 9\n",
      "pred: [0.5000012] true: 1 right: 10\n",
      "pred: [0.4999985] true: 1 right: 10\n",
      "pred: [0.4999982] true: 1 right: 10\n",
      "pred: [0.49999678] true: 0 right: 11\n",
      "pred: [0.49999827] true: 1 right: 11\n",
      "pred: [0.49999774] true: 0 right: 12\n",
      "pred: [0.49999845] true: 0 right: 13\n",
      "pred: [0.49999797] true: 1 right: 13\n",
      "pred: [0.49999893] true: 0 right: 14\n",
      "pred: [0.50000995] true: 1 right: 15\n",
      "pred: [0.500008] true: 0 right: 15\n",
      "pred: [0.49999785] true: 1 right: 15\n",
      "pred: [0.5000041] true: 0 right: 15\n",
      "pred: [0.49999946] true: 1 right: 15\n",
      "pred: [0.49999875] true: 0 right: 16\n",
      "pred: [0.49999857] true: 0 right: 17\n",
      "pred: [0.499999] true: 1 right: 17\n",
      "pred: [0.49999666] true: 1 right: 17\n",
      "pred: [0.4999982] true: 0 right: 18\n",
      "pred: [0.49999863] true: 0 right: 19\n",
      "pred: [0.49999934] true: 1 right: 19\n",
      "pred: [0.5000057] true: 1 right: 20\n",
      "pred: [0.4999969] true: 1 right: 20\n",
      "pred: [0.4999981] true: 0 right: 21\n"
     ]
    }
   ],
   "source": [
    "# data_x_train =          [arr1, arr2, arr3]       # data_x_test = [arr4, arr5]\n",
    "# shuffle(data_x_train) = [arr2, arr3, arr1]\n",
    "# data_y_train = [0, 1, 1] # data_y_test = [0, 1]\n",
    "\n",
    "right = 0\n",
    "for i in range(len(data_x_test)):\n",
    "    pred = logistic_fun(np.matmul(data_x_test[i],sess.run(W)) + sess.run(b))\n",
    "    if data_y_test[i] == 0 and pred < 0.5:\n",
    "        right += 1\n",
    "    if data_y_test[i] == 1 and pred > 0.5:\n",
    "        right += 1\n",
    "    print(\"pred:\",pred,\"true:\",data_y_test[i],\"right:\",right)"
   ]
  },
  {
   "cell_type": "code",
   "execution_count": 95,
   "metadata": {},
   "outputs": [
    {
     "name": "stdout",
     "output_type": "stream",
     "text": [
      "right: 21 total: 39 percent correct: 53.84615384615385\n"
     ]
    }
   ],
   "source": [
    "#with happy/sad files from first 4 actors we got 6 out of 20 correct, 30%\n",
    "#with happy/sad files from first 8 actors we got 15 out of 39 correct, 38.46153846153847%\n",
    "print(\"right:\",right,\"total:\",num_test,\"percent correct:\",right/num_test*100)"
   ]
  },
  {
   "cell_type": "code",
   "execution_count": null,
   "metadata": {},
   "outputs": [],
   "source": []
  },
  {
   "cell_type": "code",
   "execution_count": null,
   "metadata": {},
   "outputs": [],
   "source": []
  }
 ],
 "metadata": {
  "kernelspec": {
   "display_name": "Python 3",
   "language": "python",
   "name": "python3"
  },
  "language_info": {
   "codemirror_mode": {
    "name": "ipython",
    "version": 3
   },
   "file_extension": ".py",
   "mimetype": "text/x-python",
   "name": "python",
   "nbconvert_exporter": "python",
   "pygments_lexer": "ipython3",
   "version": "3.6.5"
  }
 },
 "nbformat": 4,
 "nbformat_minor": 2
}
