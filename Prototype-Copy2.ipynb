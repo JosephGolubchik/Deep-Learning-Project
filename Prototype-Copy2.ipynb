{
 "cells": [
  {
   "cell_type": "code",
   "execution_count": 1,
   "metadata": {},
   "outputs": [],
   "source": [
    "import tensorflow as tf\n",
    "import librosa.display\n",
    "import matplotlib.pyplot as plt\n",
    "import numpy as np\n",
    "import os\n",
    "import random\n",
    "import timeit\n",
    "import pandas as pd"
   ]
  },
  {
   "cell_type": "code",
   "execution_count": 2,
   "metadata": {},
   "outputs": [],
   "source": [
    "config = tf.ConfigProto()\n",
    "config.intra_op_parallelism_threads = 44\n",
    "config.inter_op_parallelism_threads = 44"
   ]
  },
  {
   "cell_type": "code",
   "execution_count": 3,
   "metadata": {},
   "outputs": [
    {
     "name": "stdout",
     "output_type": "stream",
     "text": [
      "num of files= 384 ,num of actors= 24.0\n"
     ]
    }
   ],
   "source": [
    "filenames = []\n",
    "for file in os.listdir('audio'):\n",
    "    filenames.append(file)\n",
    "# filenames[0:2]\n",
    "print(\"num of files=\",len(filenames),\",num of actors=\",len(filenames)/16)"
   ]
  },
  {
   "cell_type": "code",
   "execution_count": 4,
   "metadata": {},
   "outputs": [],
   "source": [
    "random.shuffle(filenames)"
   ]
  },
  {
   "cell_type": "code",
   "execution_count": 5,
   "metadata": {},
   "outputs": [],
   "source": [
    "# max, min = 76117, 53310\n",
    "# start, end = 21000/sampling_rate, 47424/sampling_rate\n",
    "# wave_length = end-start\n",
    "num_train = int(len(filenames)*0.7)\n",
    "num_test = len(filenames) - num_train"
   ]
  },
  {
   "cell_type": "code",
   "execution_count": 6,
   "metadata": {},
   "outputs": [],
   "source": [
    "# for filename in filenames[:num_train]:\n",
    "#     data, sampling_rate = librosa.load(\"audio/\" + filename, res_type='kaiser_fast', duration=end, offset=start)\n",
    "#     print(len(data))"
   ]
  },
  {
   "cell_type": "code",
   "execution_count": 7,
   "metadata": {},
   "outputs": [],
   "source": [
    "# df = pd.DataFrame(columns=['feature'])\n",
    "# for index, y in enumerate(filenames):\n",
    "#     data, sampling_rate = librosa.load(\"audio/\" + filename, res_type='kaiser_fast', duration=end, offset=start)\n",
    "#     mfccs = np.mean(librosa.feature.mfcc(y=data, n_mfcc=25,), axis=0)\n",
    "#     data_x_train.append(-(mfccs)/100)\n",
    "    \n",
    "# df"
   ]
  },
  {
   "cell_type": "code",
   "execution_count": 8,
   "metadata": {},
   "outputs": [
    {
     "name": "stdout",
     "output_type": "stream",
     "text": [
      "runtime:  48.747160666314905\n"
     ]
    }
   ],
   "source": [
    "data_x_train = []\n",
    "data_x_test = []\n",
    "\n",
    "start_time = timeit.default_timer()\n",
    "for filename in filenames[:num_train]:\n",
    "    data, sampling_rate = librosa.load(\"audio/\" + filename, sr=22050*2, res_type='kaiser_fast', duration=2.5, offset=0.5)\n",
    "    sampling_rate = np.array(sampling_rate)\n",
    "    mfccs = np.mean(librosa.feature.mfcc(y=data, sr=sampling_rate, n_mfcc=13), axis=0)\n",
    "    data_x_train.append(mfccs)\n",
    "    \n",
    "for filename in filenames[num_train:]:\n",
    "    data, sampling_rate = librosa.load(\"audio/\" + filename, sr=22050*2, res_type='kaiser_fast', duration=2.5, offset=0.5)\n",
    "    sampling_rate = np.array(sampling_rate)\n",
    "    mfccs = np.mean(librosa.feature.mfcc(y=data, sr=sampling_rate, n_mfcc=13), axis=0)\n",
    "    data_x_test.append(mfccs)\n",
    "    \n",
    "stop_time = timeit.default_timer()\n",
    "print('runtime: ', stop_time - start_time)  "
   ]
  },
  {
   "cell_type": "code",
   "execution_count": 9,
   "metadata": {},
   "outputs": [],
   "source": [
    "data_y_train = []\n",
    "data_y_test = []\n",
    "\n",
    "for filename in filenames[:num_train]:\n",
    "    if filename[7] == '3':\n",
    "        data_y_train.append(1)\n",
    "    elif filename[7] == '4':\n",
    "        data_y_train.append(0)\n",
    "        \n",
    "for filename in filenames[num_train:]:\n",
    "    if filename[7] == '3':\n",
    "        data_y_test.append(1)\n",
    "    elif filename[7] == '4':\n",
    "        data_y_test.append(0)   "
   ]
  },
  {
   "cell_type": "code",
   "execution_count": 10,
   "metadata": {},
   "outputs": [],
   "source": [
    "# takes every value in data_y to an array\n",
    "# ex: [0, 1, 1, 1, 0] => [[0], [1], [1], [1], [0]]\n",
    "data_y_train_correct = []\n",
    "data_y_test_correct = []\n",
    "\n",
    "for val in data_y_train:\n",
    "    val_arr = []\n",
    "    val_arr.append(val)\n",
    "    data_y_train_correct.append(val_arr)\n",
    "    \n",
    "for val in data_y_test:\n",
    "    val_arr = []\n",
    "    val_arr.append(val)\n",
    "    data_y_test_correct.append(val_arr)"
   ]
  },
  {
   "cell_type": "code",
   "execution_count": 11,
   "metadata": {},
   "outputs": [],
   "source": [
    "data_xy_train = []\n",
    "for i in range(len(data_x_train)):\n",
    "    data_xy_train.append( (data_x_train[i], data_y_train_correct[i]) )\n",
    "    \n",
    "data_xy_test = []\n",
    "for i in range(len(data_x_test)):\n",
    "    data_xy_test.append( (data_x_test[i], data_y_test_correct[i]) )"
   ]
  },
  {
   "cell_type": "code",
   "execution_count": 12,
   "metadata": {},
   "outputs": [],
   "source": [
    "def getXvalues(data_xy):\n",
    "    x_values = []\n",
    "    for data in data_xy:\n",
    "        x_values.append(data[0])\n",
    "    return x_values\n",
    "\n",
    "def getYvalues(data_xy):\n",
    "    y_values = []\n",
    "    for data in data_xy:\n",
    "        y_values.append(data[1])\n",
    "    return y_values"
   ]
  },
  {
   "cell_type": "code",
   "execution_count": 13,
   "metadata": {},
   "outputs": [],
   "source": [
    "def logistic_fun(z):\n",
    "    return 1/(1.0 + np.exp(-z))"
   ]
  },
  {
   "cell_type": "code",
   "execution_count": 14,
   "metadata": {},
   "outputs": [
    {
     "data": {
      "text/plain": [
       "(array([-49.56826102, -49.56826102, -49.56826102, -49.56826102,\n",
       "        -49.56826102, -49.56826102, -49.56570076, -49.92023195,\n",
       "        -49.64841859, -48.13173906, -47.13205226, -46.72747176,\n",
       "        -47.54985101, -47.07444249, -45.27361108, -44.49747418,\n",
       "        -44.3884471 , -43.23060548, -44.62978961, -42.06948306,\n",
       "        -40.29454054, -40.87143707, -38.6569305 , -39.12723085,\n",
       "        -39.53263837, -40.45077194, -42.30103939, -44.07920231,\n",
       "        -44.03932673, -44.92372123, -47.12762379, -48.23363682,\n",
       "        -48.32664363, -48.5501703 , -49.57411865, -49.76932812,\n",
       "        -49.69066792, -49.69868061, -49.68178889, -49.73728373,\n",
       "        -49.65654857, -49.56826102, -49.56826102, -49.56826102,\n",
       "        -48.58948751, -43.74744117, -37.08622309, -39.42373168,\n",
       "        -45.32297341, -44.93269207, -44.55556809, -45.16228556,\n",
       "        -42.09744332, -40.19310538, -38.88011275, -41.39557169,\n",
       "        -43.38491485, -42.11446293, -43.63233021, -45.70241923,\n",
       "        -46.77203215, -46.36425714, -47.32634012, -47.5723799 ,\n",
       "        -47.84427979, -46.03865268, -44.65476193, -46.14256237,\n",
       "        -47.50953067, -45.36288771, -45.88583724, -47.70434499,\n",
       "        -45.8444665 , -46.08137136, -45.64227103, -45.15861354,\n",
       "        -48.39545071, -47.32097579, -48.50174036, -50.81897717,\n",
       "        -50.53015647, -50.44671489, -52.58318455, -51.71554097,\n",
       "        -51.59181721, -51.32162883, -52.7611456 , -52.71211228,\n",
       "        -52.54197173, -52.30350334, -52.1891337 , -45.01143498,\n",
       "        -37.21050841, -37.01776235, -41.27109561, -45.09519367,\n",
       "        -45.57475633, -44.67588225, -45.18474577, -44.32869834,\n",
       "        -44.40415515, -43.94357458, -45.17343033, -45.41053022,\n",
       "        -45.07068187, -46.3002961 , -45.72816435, -42.66655471,\n",
       "        -41.37944507, -42.31619798, -43.33938742, -42.2190682 ,\n",
       "        -42.91673288, -43.05045443, -43.79505651, -43.87693051,\n",
       "        -44.59691308, -46.00433288, -47.96455811, -49.9012292 ,\n",
       "        -47.91282713, -44.32057869, -44.77864515, -47.51279198,\n",
       "        -47.62895076, -48.1153171 , -47.41067229, -47.16541847,\n",
       "        -49.29370212, -49.13382054, -49.80512895, -49.45561196,\n",
       "        -50.15795457, -50.57775314, -49.67335072, -49.34052431,\n",
       "        -48.53862646, -48.48243651, -47.69977736, -47.29233208,\n",
       "        -48.47465881, -48.75261631, -46.21495087, -44.20384455,\n",
       "        -46.44678491, -44.89052111, -45.53973972, -46.64713471,\n",
       "        -45.86869936, -45.34833889, -45.67871052, -45.01231181,\n",
       "        -45.76473604, -44.92023703, -44.59084803, -42.35848358,\n",
       "        -42.7098518 , -45.4229736 , -45.41398336, -46.34459726,\n",
       "        -45.29867097, -45.87805306, -45.44951248, -45.89501039,\n",
       "        -46.94835828, -46.98509145, -46.33919344, -45.86761163,\n",
       "        -46.80682466, -47.26651396, -48.41362761, -48.96835733,\n",
       "        -46.97710199, -46.58436276, -48.75901289, -49.26300686,\n",
       "        -43.64413142, -37.03807161, -37.17618945, -40.93030028,\n",
       "        -45.80993541, -47.19239034, -47.00263531, -46.79138115,\n",
       "        -46.8707951 , -48.30578644, -48.20677585, -48.91185978,\n",
       "        -48.81748121, -48.39615913, -47.92848836, -46.4342307 ,\n",
       "        -46.38900434, -47.0479272 , -47.5056759 , -47.78379773,\n",
       "        -47.47816732, -47.68462826, -45.88902268, -43.9387185 ,\n",
       "        -44.94385724, -44.07813264, -44.36518509, -42.38080644,\n",
       "        -42.18177209, -42.61215164, -41.63486451, -40.31103026,\n",
       "        -38.82509588, -40.42224375, -40.47408714, -38.83235593,\n",
       "        -38.26941733, -37.91862509, -30.90290173, -23.53483149]), [0])"
      ]
     },
     "execution_count": 14,
     "metadata": {},
     "output_type": "execute_result"
    }
   ],
   "source": [
    "data_xy_train[1]"
   ]
  },
  {
   "cell_type": "code",
   "execution_count": 61,
   "metadata": {},
   "outputs": [
    {
     "name": "stdout",
     "output_type": "stream",
     "text": [
      "runtime:  7.516774832601982\n"
     ]
    }
   ],
   "source": [
    "features = len(data_xy_train[0][0])\n",
    "eps = 1e-12\n",
    "\n",
    "x = tf.placeholder(tf.float32, [None, features])\n",
    "y_ = tf.placeholder(tf.float32, [None, 1])\n",
    "W = tf.Variable(tf.zeros([features,1]))\n",
    "b = tf.Variable(tf.zeros([1]))\n",
    "y = 1 / (1.0 + tf.exp(-(tf.matmul(x,W) + b)))\n",
    "\n",
    "loss1 = -(y_ * tf.log(y + eps) + (1 - y_) * tf.log(1 - y + eps))\n",
    "loss = tf.reduce_mean(loss1)\n",
    "update = tf.train.GradientDescentOptimizer(0.00002).minimize(loss)\n",
    "\n",
    "sess = tf.Session(config=config)\n",
    "sess.run(tf.global_variables_initializer())\n",
    "\n",
    "loss_history_train = []\n",
    "loss_history_test = []\n",
    "accuracy_history = []\n",
    "\n",
    "start_time = timeit.default_timer()\n",
    "\n",
    "for i in range(0,200):\n",
    "    sess.run(update, feed_dict = {x:getXvalues(data_xy_train), y_:getYvalues(data_xy_train)}) #BGD\n",
    "    loss_history_train.append(np.mean(sess.run(loss1, feed_dict = {x:getXvalues(data_xy_train), y_:getYvalues(data_xy_train)})))\n",
    "    random.shuffle(data_xy_train)\n",
    "    \n",
    "    if i%10 == 0:\n",
    "        right = 0\n",
    "        for i in range(len(data_x_test)):\n",
    "            pred = logistic_fun(np.matmul(getXvalues(data_xy_train)[i],sess.run(W)) + sess.run(b))\n",
    "            loss_history_test.append(np.mean(sess.run(loss1, feed_dict = {x:getXvalues(data_xy_test), y_:getYvalues(data_xy_test)})))\n",
    "            if data_y_test[i] == 0 and pred < 0.5:\n",
    "                right += 1\n",
    "            if data_y_test[i] == 1 and pred > 0.5:\n",
    "                right += 1\n",
    "        accuracy_history.append(right/num_test)\n",
    "\n",
    "stop_time = timeit.default_timer()\n",
    "print('runtime: ', stop_time - start_time)  "
   ]
  },
  {
   "cell_type": "code",
   "execution_count": 62,
   "metadata": {},
   "outputs": [],
   "source": [
    "# data_x_train =          [arr1, arr2, arr3]       # data_x_test = [arr4, arr5]\n",
    "# shuffle(data_x_train) = [arr2, arr3, arr1]\n",
    "# data_y_train = [0, 1, 1] # data_y_test = [0, 1]\n",
    "\n",
    "right = 0\n",
    "\n",
    "for i in range(len(data_x_test)):\n",
    "    pred = logistic_fun(np.matmul(getXvalues(data_xy_train)[i],sess.run(W)) + sess.run(b))\n",
    "    if data_y_test[i] == 0 and pred < 0.5:\n",
    "        right += 1\n",
    "    if data_y_test[i] == 1 and pred > 0.5:\n",
    "        right += 1\n",
    "#     print(\"pred:\",pred,\"=\",np.round(pred),\"true:\",data_y_test[i],\"right:\",right)"
   ]
  },
  {
   "cell_type": "code",
   "execution_count": 63,
   "metadata": {},
   "outputs": [
    {
     "name": "stdout",
     "output_type": "stream",
     "text": [
      "right: 54 ,total: 116 ,accuracy: 0.46551724137931033\n"
     ]
    }
   ],
   "source": [
    "#with happy/sad files from first 4 actors we got 6 out of 20 correct, 30%\n",
    "#with happy/sad files from first 8 actors we got 15 out of 39 correct, 38.46153846153847%\n",
    "print(\"right:\",right,\",total:\",num_test,\",accuracy:\",right/num_test)"
   ]
  },
  {
   "cell_type": "code",
   "execution_count": 64,
   "metadata": {},
   "outputs": [
    {
     "data": {
      "text/plain": [
       "[<matplotlib.lines.Line2D at 0x23c3d828>]"
      ]
     },
     "execution_count": 64,
     "metadata": {},
     "output_type": "execute_result"
    },
    {
     "data": {
      "image/png": "[encoded data removed]",
      "text/plain": [
       "<Figure size 432x288 with 1 Axes>"
      ]
     },
     "metadata": {
      "needs_background": "light"
     },
     "output_type": "display_data"
    }
   ],
   "source": [
    "plt.plot(loss_history_train)"
   ]
  },
  {
   "cell_type": "code",
   "execution_count": 65,
   "metadata": {},
   "outputs": [
    {
     "data": {
      "text/plain": [
       "[<matplotlib.lines.Line2D at 0x23eaf470>]"
      ]
     },
     "execution_count": 65,
     "metadata": {},
     "output_type": "execute_result"
    },
    {
     "data": {
      "image/png": "[encoded data removed]",
      "text/plain": [
       "<Figure size 432x288 with 1 Axes>"
      ]
     },
     "metadata": {
      "needs_background": "light"
     },
     "output_type": "display_data"
    }
   ],
   "source": [
    "plt.plot(loss_history_test)"
   ]
  },
  {
   "cell_type": "code",
   "execution_count": 66,
   "metadata": {},
   "outputs": [
    {
     "data": {
      "text/plain": [
       "[<matplotlib.lines.Line2D at 0x23f0ba20>]"
      ]
     },
     "execution_count": 66,
     "metadata": {},
     "output_type": "execute_result"
    },
    {
     "data": {
      "image/png": "[encoded data removed]",
      "text/plain": [
       "<Figure size 432x288 with 1 Axes>"
      ]
     },
     "metadata": {
      "needs_background": "light"
     },
     "output_type": "display_data"
    }
   ],
   "source": [
    "plt.plot(accuracy_history)"
   ]
  },
  {
   "cell_type": "code",
   "execution_count": null,
   "metadata": {},
   "outputs": [],
   "source": []
  },
  {
   "cell_type": "code",
   "execution_count": null,
   "metadata": {},
   "outputs": [],
   "source": []
  },
  {
   "cell_type": "code",
   "execution_count": null,
   "metadata": {},
   "outputs": [],
   "source": []
  },
  {
   "cell_type": "code",
   "execution_count": null,
   "metadata": {},
   "outputs": [],
   "source": []
  },
  {
   "cell_type": "code",
   "execution_count": null,
   "metadata": {},
   "outputs": [],
   "source": []
  },
  {
   "cell_type": "code",
   "execution_count": null,
   "metadata": {},
   "outputs": [],
   "source": []
  },
  {
   "cell_type": "code",
   "execution_count": null,
   "metadata": {},
   "outputs": [],
   "source": []
  },
  {
   "cell_type": "code",
   "execution_count": null,
   "metadata": {},
   "outputs": [],
   "source": []
  }
 ],
 "metadata": {
  "kernelspec": {
   "display_name": "Python 3",
   "language": "python",
   "name": "python3"
  },
  "language_info": {
   "codemirror_mode": {
    "name": "ipython",
    "version": 3
   },
   "file_extension": ".py",
   "mimetype": "text/x-python",
   "name": "python",
   "nbconvert_exporter": "python",
   "pygments_lexer": "ipython3",
   "version": "3.6.5"
  }
 },
 "nbformat": 4,
 "nbformat_minor": 2
}
